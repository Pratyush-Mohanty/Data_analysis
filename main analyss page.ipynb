{
 "cells": [
  {
   "cell_type": "code",
   "execution_count": 1,
   "metadata": {},
   "outputs": [],
   "source": [
    "import re\n",
    "import nltk\n",
    "\n",
    "# You only need to download these resources once. After you run this \n",
    "# the first time--or if you know you already have these installed--\n",
    "# you can comment these two lines out (with a #)\n",
    "#nltk.download('stopwords')\n",
    "#nltk.download('wordnet')\n",
    "\n",
    "\n",
    "from nltk.corpus import stopwords\n",
    "from nltk.stem.porter import PorterStemmer\n",
    "from nltk.tokenize import RegexpTokenizer\n",
    "from nltk.stem.wordnet import WordNetLemmatizer"
   ]
  },
  {
   "cell_type": "code",
   "execution_count": 2,
   "metadata": {},
   "outputs": [
    {
     "name": "stdout",
     "output_type": "stream",
     "text": [
      "   Issue ID                                              Title  \\\n",
      "0      2142              ER-Classification quality improvement   \n",
      "1      2182                               ER-STEP Type Dataset   \n",
      "2      2229                               ER-BOM REPORT ISSUES   \n",
      "3      2497                         ER-VS: Vekt fra TC til SAP   \n",
      "4      2508                         ER-VS: Vekt fra TC til SAP   \n",
      "5      2526  ER-VS: Forbedringsforslag for klassesuffix-pro...   \n",
      "6      2539               ER-RE: Wrong drawing revision in SAP   \n",
      "7      2573  ER-Enhancement request: PNAS Check for release...   \n",
      "8      2575  ER- Copy, paste on item revision for DW item r...   \n",
      "9      2648  ER-Removing of old Document ID and Document Rv ID   \n",
      "\n",
      "                                         Description Issue Status  \\\n",
      "0  Hi,\\nfind attached one example of possible cle...       Active   \n",
      "1  Hi\\nIs it possible to add a „new“ dataset type...       Active   \n",
      "2  Hi Omar,\\nI just discussed this with hiresh. B...       Active   \n",
      "3  Hi,\\nFind attached list of wheigths. How can w...       Active   \n",
      "4                                        Data Stream       Active   \n",
      "5  Hi,\\nAndy suggests to hide the non-suffixed it...       Active   \n",
      "6  Thanks for the feedback Liam.\\nWe can send a e...       Active   \n",
      "7  Hi,\\nCan we add 2 new checks; and report it as...       Active   \n",
      "8  Hi,\\nWe have already restricted the user from ...       Active   \n",
      "9  Deleting of old Document ID and Document Rv ID...       Active   \n",
      "\n",
      "                 Resolution  \n",
      "0  ​Moved to DATA Streaming  \n",
      "1                       NaN  \n",
      "2                       NaN  \n",
      "3                       NaN  \n",
      "4                       NaN  \n",
      "5                       NaN  \n",
      "6                       NaN  \n",
      "7                       NaN  \n",
      "8                       NaN  \n",
      "9                       NaN  \n"
     ]
    }
   ],
   "source": [
    "#data_file = input('\\n---\\nWhich file would like to analyze? \\n\\n')\n",
    "\n",
    "# Prefix output files with TSV filename prefix—-these will be saved to your desktop\n",
    "#file_prefix = data_file.split('.')\n",
    "#file_prefix = file_prefix[0]+'_'\n",
    "\n",
    "\n",
    "\n",
    "import pandas as pd\n",
    "\n",
    "\n",
    "# read the data\n",
    "#csv_read = pd.read_csv(r_filenameCSV)\n",
    "tsv_read = pd.read_csv(r\"C:\\Users\\Pratyush\\Downloads\\tc_nx_sap_support - Editable.csv\")\n",
    "\n",
    "# print the first 10 records\n",
    "#print(csv_read.head(10))\n",
    "print(tsv_read.head(10))\n"
   ]
  },
  {
   "cell_type": "code",
   "execution_count": 3,
   "metadata": {},
   "outputs": [
    {
     "data": {
      "text/html": [
       "<div>\n",
       "<style scoped>\n",
       "    .dataframe tbody tr th:only-of-type {\n",
       "        vertical-align: middle;\n",
       "    }\n",
       "\n",
       "    .dataframe tbody tr th {\n",
       "        vertical-align: top;\n",
       "    }\n",
       "\n",
       "    .dataframe thead th {\n",
       "        text-align: right;\n",
       "    }\n",
       "</style>\n",
       "<table border=\"1\" class=\"dataframe\">\n",
       "  <thead>\n",
       "    <tr style=\"text-align: right;\">\n",
       "      <th></th>\n",
       "      <th>Issue ID</th>\n",
       "      <th>Title</th>\n",
       "      <th>Description</th>\n",
       "      <th>Issue Status</th>\n",
       "      <th>Resolution</th>\n",
       "    </tr>\n",
       "  </thead>\n",
       "  <tbody>\n",
       "    <tr>\n",
       "      <th>0</th>\n",
       "      <td>2142</td>\n",
       "      <td>ER-Classification quality improvement</td>\n",
       "      <td>Hi,\\nfind attached one example of possible cle...</td>\n",
       "      <td>Active</td>\n",
       "      <td>​Moved to DATA Streaming</td>\n",
       "    </tr>\n",
       "    <tr>\n",
       "      <th>1</th>\n",
       "      <td>2182</td>\n",
       "      <td>ER-STEP Type Dataset</td>\n",
       "      <td>Hi\\nIs it possible to add a „new“ dataset type...</td>\n",
       "      <td>Active</td>\n",
       "      <td>NaN</td>\n",
       "    </tr>\n",
       "    <tr>\n",
       "      <th>2</th>\n",
       "      <td>2229</td>\n",
       "      <td>ER-BOM REPORT ISSUES</td>\n",
       "      <td>Hi Omar,\\nI just discussed this with hiresh. B...</td>\n",
       "      <td>Active</td>\n",
       "      <td>NaN</td>\n",
       "    </tr>\n",
       "    <tr>\n",
       "      <th>3</th>\n",
       "      <td>2497</td>\n",
       "      <td>ER-VS: Vekt fra TC til SAP</td>\n",
       "      <td>Hi,\\nFind attached list of wheigths. How can w...</td>\n",
       "      <td>Active</td>\n",
       "      <td>NaN</td>\n",
       "    </tr>\n",
       "    <tr>\n",
       "      <th>4</th>\n",
       "      <td>2508</td>\n",
       "      <td>ER-VS: Vekt fra TC til SAP</td>\n",
       "      <td>Data Stream</td>\n",
       "      <td>Active</td>\n",
       "      <td>NaN</td>\n",
       "    </tr>\n",
       "  </tbody>\n",
       "</table>\n",
       "</div>"
      ],
      "text/plain": [
       "   Issue ID                                  Title  \\\n",
       "0      2142  ER-Classification quality improvement   \n",
       "1      2182                   ER-STEP Type Dataset   \n",
       "2      2229                   ER-BOM REPORT ISSUES   \n",
       "3      2497             ER-VS: Vekt fra TC til SAP   \n",
       "4      2508             ER-VS: Vekt fra TC til SAP   \n",
       "\n",
       "                                         Description Issue Status  \\\n",
       "0  Hi,\\nfind attached one example of possible cle...       Active   \n",
       "1  Hi\\nIs it possible to add a „new“ dataset type...       Active   \n",
       "2  Hi Omar,\\nI just discussed this with hiresh. B...       Active   \n",
       "3  Hi,\\nFind attached list of wheigths. How can w...       Active   \n",
       "4                                        Data Stream       Active   \n",
       "\n",
       "                 Resolution  \n",
       "0  ​Moved to DATA Streaming  \n",
       "1                       NaN  \n",
       "2                       NaN  \n",
       "3                       NaN  \n",
       "4                       NaN  "
      ]
     },
     "execution_count": 3,
     "metadata": {},
     "output_type": "execute_result"
    }
   ],
   "source": [
    "dataset=tsv_read\n",
    "dataset.head()"
   ]
  },
  {
   "cell_type": "code",
   "execution_count": 4,
   "metadata": {},
   "outputs": [
    {
     "data": {
      "text/plain": [
       "Index(['Issue ID', 'Title', 'Description', 'Issue Status', 'Resolution'], dtype='object')"
      ]
     },
     "execution_count": 4,
     "metadata": {},
     "output_type": "execute_result"
    }
   ],
   "source": [
    "dataset.columns"
   ]
  },
  {
   "cell_type": "code",
   "execution_count": 5,
   "metadata": {},
   "outputs": [
    {
     "name": "stdout",
     "output_type": "stream",
     "text": [
      "\n",
      "---\n",
      "Which column contains the text data you would like to analyze?\n",
      "\n",
      "Title\n"
     ]
    }
   ],
   "source": [
    "datacol = input('\\n---\\nWhich column contains the text data you would like to analyze?\\n\\n')"
   ]
  },
  {
   "cell_type": "code",
   "execution_count": 6,
   "metadata": {},
   "outputs": [],
   "source": [
    "res=''\n",
    "for i in dataset[datacol]:\n",
    "    res+=i\n",
    "import nltk\n",
    "from nltk.stem import WordNetLemmatizer\n",
    "wordnet_lemmatizer = WordNetLemmatizer()\n",
    "\n",
    "from nltk.stem.porter import PorterStemmer\n",
    "porter_stemmer = PorterStemmer()\n",
    "\n",
    "data=''\n",
    "for i in res:\n",
    "    data+=wordnet_lemmatizer.lemmatize(i)\n",
    "nltk_tokens = nltk.word_tokenize(data)"
   ]
  },
  {
   "cell_type": "code",
   "execution_count": 7,
   "metadata": {},
   "outputs": [
    {
     "data": {
      "text/plain": [
       "-       444\n",
       "to      421\n",
       ":       414\n",
       "of      262\n",
       "in      251\n",
       "for     204\n",
       ".       165\n",
       ",       165\n",
       "item    151\n",
       "and     134\n",
       "dtype: int64"
      ]
     },
     "execution_count": 7,
     "metadata": {},
     "output_type": "execute_result"
    }
   ],
   "source": [
    "freq = pd.Series(' '.join(map(str, nltk_tokens)).split()).value_counts()[:10]\n",
    "freq"
   ]
  },
  {
   "cell_type": "code",
   "execution_count": 8,
   "metadata": {},
   "outputs": [
    {
     "name": "stdout",
     "output_type": "stream",
     "text": [
      "[',', '-', '.', ':', ';', 'be', 'in', 'of', 'to']\n"
     ]
    }
   ],
   "source": [
    "csw = set(line.strip() for line in open(r\"C:\\Users\\Pratyush\\Downloads\\stopwords_Pro.txt\"))\n",
    "csw = [sw.lower() for sw in csw]\n",
    "print(sorted(csw))"
   ]
  },
  {
   "cell_type": "code",
   "execution_count": 9,
   "metadata": {},
   "outputs": [
    {
     "name": "stdout",
     "output_type": "stream",
     "text": [
      "[',', '-', '.', ':', ';', 'a', 'about', 'above', 'after', 'again', 'against', 'ain', 'all', 'am', 'an', 'and', 'any', 'are', 'aren', \"aren't\", 'as', 'at', 'be', 'because', 'been', 'before', 'being', 'below', 'between', 'both', 'but', 'by', 'can', 'couldn', \"couldn't\", 'd', 'did', 'didn', \"didn't\", 'do', 'does', 'doesn', \"doesn't\", 'doing', 'don', \"don't\", 'down', 'during', 'each', 'few', 'for', 'from', 'further', 'had', 'hadn', \"hadn't\", 'has', 'hasn', \"hasn't\", 'have', 'haven', \"haven't\", 'having', 'he', 'her', 'here', 'hers', 'herself', 'him', 'himself', 'his', 'how', 'i', 'if', 'in', 'into', 'is', 'isn', \"isn't\", 'it', \"it's\", 'its', 'itself', 'just', 'll', 'm', 'ma', 'me', 'mightn', \"mightn't\", 'more', 'most', 'mustn', \"mustn't\", 'my', 'myself', 'needn', \"needn't\", 'no', 'nor', 'not', 'now', 'o', 'of', 'off', 'on', 'once', 'only', 'or', 'other', 'our', 'ours', 'ourselves', 'out', 'over', 'own', 're', 's', 'same', 'shan', \"shan't\", 'she', \"she's\", 'should', \"should've\", 'shouldn', \"shouldn't\", 'so', 'some', 'such', 't', 'than', 'that', \"that'll\", 'the', 'their', 'theirs', 'them', 'themselves', 'then', 'there', 'these', 'they', 'this', 'those', 'through', 'to', 'too', 'under', 'until', 'up', 've', 'very', 'was', 'wasn', \"wasn't\", 'we', 'were', 'weren', \"weren't\", 'what', 'when', 'where', 'which', 'while', 'who', 'whom', 'why', 'will', 'with', 'won', \"won't\", 'wouldn', \"wouldn't\", 'y', 'you', \"you'd\", \"you'll\", \"you're\", \"you've\", 'your', 'yours', 'yourself', 'yourselves']\n"
     ]
    }
   ],
   "source": [
    "stop_words = set(stopwords.words(\"english\"))\n",
    "#print(sorted(stop_words))\n",
    "stop_words = stop_words.union(csw)\n",
    "print(sorted(stop_words))\n"
   ]
  },
  {
   "cell_type": "code",
   "execution_count": 10,
   "metadata": {},
   "outputs": [],
   "source": [
    "corpus = []\n",
    "#stop_words=['', 'bom', 'design', 'document', 'erp', 'error', 'item', 'sap']\n",
    "\n",
    "dataset['word_count'] = dataset[datacol].apply(lambda x: len(str(x).split(\" \")))\n",
    "ds_count = len(dataset.word_count)\n",
    "for i in range(0, ds_count):\n",
    "    # Remove punctuation\n",
    "    text = re.sub('[^a-zA-Z]', ' ', str(dataset[datacol][i]))\n",
    "    \n",
    "    # Convert to lowercase\n",
    "    text = text.lower()\n",
    "    \n",
    "    # Remove tags\n",
    "    text=re.sub(\"&lt;/?.*?&gt;\",\" &lt;&gt; \",text)\n",
    "    \n",
    "    # Remove special characters and digits\n",
    "    text=re.sub(\"(\\\\d|\\\\W)+\",\" \",text)\n",
    "    \n",
    "    # Convert to list from string\n",
    "    text = text.split()\n",
    "    \n",
    "    # Stemming\n",
    "    ps=PorterStemmer()\n",
    "    \n",
    "    # Lemmatisation\n",
    "    lem = WordNetLemmatizer()\n",
    "    #print(stop_words)\n",
    "    text = [lem.lemmatize(word) for word in text if not word in  \n",
    "            stop_words] \n",
    "    text = \" \".join(text)\n",
    "    corpus.append(text)"
   ]
  },
  {
   "cell_type": "code",
   "execution_count": 11,
   "metadata": {},
   "outputs": [
    {
     "name": "stdout",
     "output_type": "stream",
     "text": [
      "['er classification quality improvement', 'er step type dataset', 'er bom report issue', 'er v vekt fra tc til sap', 'er v vekt fra tc til sap', 'er v forbedringsforslag klassesuffix prose', 'er wrong drawing revision sap', 'er enhancement request pnas check release sap description', 'er copy paste item revision dw item revision', 'er removing old document id document rv id', 'er fw ar tekst', 'er classification attribute plf form', 'er ocn approval complete mail workflow name added subject mail', 'er ocn workflow getting correct excel', 'er setup outlook item tc', 'branch stainless steel aisi', 'w urgent obsolete material j cock', 'er fw document added td document', 'er referenced report show incorrect result', 'er tc issue', 'er material item missing sap', 'er setup material status incorrect m', 'er export level drawing tool revision exported', 'regarding ip secured classification property part', 'renaming classification structure', 'new structure tarpaulin tc classification', 'er material tarpaulin', 'fw urovekkende observasjon teamcenter', 'c need renamed removed classification remove feature avoid misuse', 'er fw approved bom release sap dc new engine spec ecn release perform signoffs', 'reference item visibility revision', 'fw approved bom release sap dc drawing bom change power take shaft arr x x l x x v ecn release perform signoffs', 'er enhancement request drawing change notification pr mail workflow', 'release item sap', 'revision c fw', 'uen sonora ph ii', 'error release', 'quick release error message', 'unable assign item imo nox project', 'cannot delete replace child item bom', 'new wwep material created teamcenter', 'please get item released sent sap', 'releasing sending bauhireshs sap', 'urgent mrp run change erp', 'critical mrp rund send erp', 'urgent mrp run change erp', 'item released release parent', 'c exploding damen', 'melding long lead', 'tuningmass', 'teamcenter nx downtime', 'releas change order', 'problem pasting pdf dataset item tc', 'delete duplicate', 'unrelease item xsc', 'gr nn endr melding upgraded air starter kit x l mml', 'c release drawing without change bom', 'class part w suffix', 'new revision item', '', 'ecn preliminary erp issue', 'tc quick release issue', 'teamcenter nx downtime', 'error message c', 'check cxss xsc latest updated sap', 'operation faild help', 'new change', 'renaming b item cxss', 'change pre sluxxx c x l', 'tc business rule', 'rreb eng l fitjar c', 'teamcenter extract', 'rename baustain back c etc', 'bom wrong ring removed', 'classify nut wing', 'question regarding', 'question regarding making drwaing refrences visable multi', 'ecn preliminary erp', 'new foundry bom external rr marine product', 'nx nx setup plmnordic prod modeling c exhaust', 'new classification group needed', 'access issue', 'drawing release', 'quick release error message client install request', 'quick release error message', 'unrelease c subcomponents', 'error release', 'able paste solution item', 'try release change item get error message', 'new process dialog change ownership xkd', 'new process dialog change owner plant spec c', 'cannot log teamcenter', 'revise', 'tc ownership', 'could please provide model itemd itemd', 'release issue', 'cannot classify item suffix', 'classification view missing cxss bauhiresh m', 'error releasing xkd', 'rreb eng l fitjar release xkd', 'password reset', 'correct size x bolt', 'make cxss class society item', 'error message tc', 'pl make obsolete write size field replaced', 'item revision could revised', 'release av change order dc urgent', 'rename cxss', 'rename cxss', 'cleaning l p rebuild west sea estaleiros navais', 'wrong item name', 'cxss electrical equipment x l failed renaming', 'ownership drawing', 'w rename replace exercise priority task', 'release', 'request quotation urgent rfq far saga flywheel ri', 'releas change order new erro', 'qrelease problem', 'non geometric', 'make cxss', 'art', 'logg problem', 'structure manager teamcenter', 'error revising c', 'c sent', 'urgent transfere sap tc multi', 'urgent transfere sap tc multi', 'warning preliminary erp v release', 'rreb eng l fitjar plant specification please wait sending sap', 'basic material migrated sap', 'basic material migrated sap', 'access issue', 'revise', 'unrelease c', 'bom report generated tmp folder pl check', 'dc release issue', 'bom transferred xsc', 'please delete b valid', 'error quick releasing item', 'cxss sent sap', 'cancel revision item', 'cancel revision item c', 'wrong classification', 'file already exists issue', 'wrong decription', 'satndard part', 'drawing missing information registration', 'tuning mass', 'rename w item', 'rename cxss', 'high ecn', 'able revise item c tc', 'please release dc dc dc', 'creating cxss change number dc', 'new classification class additon update existing class attribute addition', 'wrong quantity cxss', 'releas bauhiresh', 'release', 'copy past xkd', 'order armon gijon g bop besa single level report ipas', 'access denied bauhiresh project teamcenter', 'w renumbering', 'rename cxss', 'tc help', 'help change dc', 'dc release', 'problem release dc', 'rename xsc xsc', 'need standard part', 'midland sluxxx', 'bauhiresh xkd', 'duplication connecting rod veivstake', 'rename cxss', 'release', 'release', 'clasification error', 'rename xkb', 'f tegninger release', 'teamcenter login error', 'rename', 'release item erp tc', 'tc klasser', 'release error message', 'correction without revision', 'release needed c c', 'rename issue', 'tc error', 'high', 'unable login tc', 'tc error', 'cxss creation', 'new process dialog impossible release change dc', 'rb artikler sap', 'rename cxss', 'wrong size name item', 'issue save', 'error', 'w suffix missing', 'dc dc ready released', 'release ecn', 'ecn release feilmelding', 'change number', 'urgent color bauhireshs sap', 'release item plant', 'new wwep bom created tc script', 'dc avvist', 'problem revising xsc', 'release item', 'workflow finished one sub assembly released', 'need w', 'high', 'urgent item', 'urgent item', 'wrong w', 'g', 'suffix', 'release item tc', 'release error imo nox project urgent', 'tc revise error', 'change', 'teamcenter teamcenter', 'rename big end bearing shell upper', 'dc', 'unable copy paste item ecn solution item', 'teamcenter error', 'change ikke behandlet', 'default type pdf image drag n dropped', 'tc login error due system change z drive restart pc', 'item renamed w', 'wrong gr nn melding bc cxss', 'need standard part', 'part number sap', 'material art c ring ffkm g b urgent', 'ecc production use assembly hint better control align production v shipment', 'renaming c w', 'tc revisjon shit', 'tc wtf', 'error bom', 'error message saying business rule require enter uom', 'non geometric component', 'copy xkd change order dc', 'error ved costing run', 'r rpakke', 'green messeage lubrication oil outlet pumpx l l l chn umutt', 'green messeage lubrication oil outlet pumpx l l l chn umutt', 'missing boms costing error', 'classified part', 'non geometric', 'remove boms', 'please release follwing hose item', 'release hose suffix', 'change item state', 'able put item ecn', 'dc', 'c sent', 'error message tc sending', 'tc revice error', 'high', 'gr nn melding x l turbocharger insulation arr g g', 'change item state error releasing ecn', 'new report tc visible', 'standard part correction', 'og dc feilmelding', 'sap attribute say yes', 'renameing', 'nx licensing error', 'part family part failing renaming og item', 'problem med release av change notice tc', 'renameing', 'dc release approval problem', 'dc still problem', 'dc release approval problem', 'dc release approval problem', 'dc release approval problem', 'unable copy paste item ecn solution item', 'high', 'bom update c w', 'ang tegning stykklister nye bolter', 'new install teamcenter computer', '', 'relaese', 'l se fra nedre forkantmodul fra change til x l', 'dc', 'purchased material number converted cxss c gas exhaust insulation module', 'dc', 'change revision', 'erro releasing change order', 'cannot copy xkd change order dc', 'new process dialog', 'pl check', 'able revise', 'revise', 'teamcenter login problem urgent', 'error logging tc', 'rename xfb cxss', 'rename xfb cxss', 'single level report urgent', 'renaming', 'question regarding bom c po bom c', 'approved bom release sap dc new lub oil pump wwep perform signoffs', 'missing tif dataset release', 'release item bom', 'dc error', 'urgent create dummy bauhiresh send p m', 'dc error', 'alt rep av standard part', 'teamsenter', 'standard part library', 'b art c', 'renumbering w three item', 'itemitem sap', 'renaming w item', 'issue sale order', 'rename part w', 'dc', 'urgent warning flagg process symbol dc', 'ownership', 'nx nx setup plmnordic prod modeling c exhaust', 'dc', 'std part geometry teamcenter', 'classification name checking', 'c wrong clasification', 'unrelease', 'structure manager teamcenter ikke mulig endre find nr anlegg spes niv et cxss', 'bauhiresh issue', 'change zroh material bulk managed', 'request new classification root', 'item state change xkd', 'high', 'error message', 'change zroh material bulk managed', 'singel level dc', 'rename cxss', 'c dwg kontrollert jev pdf adobe acrobat reader dc', 'rreb eng l fitjar c rev', 'new standard part screw countersunk', 'rename cxss', 'regaring bom change dc', 'teamcenter save error', 'subcontracting', 'urgent class society material number', 'write access', 'check c alt', 'release item', 'sluxxx x v', 'cxss', 'error costing run xlsx', 'zamakona c first revison plant spec', 'issue log tc', 'w suffix', 'classification', 'missing geometry initems', 'release item', 'release item', 'release item', 'remove item replaced', 'missing reference drawing teamcenter', 'teamcenter procedure', 'dc approval issue', 'dimension missing raw material', 'tc new item form define additional revision information', 'art change size access denied ncr', 'delete rev xsc', 'rename', 'order dc transformed sap deler ordre ikke overf rt til sap vard brevik restlevering f rste', 'classification issue', 'change ownership c', 'unable log tc', 'tc cant login', 'unable login teamcenter', 'able logon tc', 'felmeddelande', 'tc error login', 'cxss bauhiresh released', 'problem revise', 'ownership', 'release item bom', 'missing sap description', 'check ownership rev', 'rename c cxss', 'relese dc', 'high', 'w suffix', 'release material bom', 'gr nn melding releasing bauhiresh engine', 'dc issue', 'new classification category classification required', 'bom c', 'c w dc', 'teamcenter teamcenter unrelease g', 'open word sheet teamsenter', 'release conflict', 'oversikt forsinkede leveranser', 'rename item', 'dc', 'sv problem pnas bom report tier user', 'cxss structure correct cxss', 'release material tc', 'unsuccessful approve dc', 'w suffix', 'cant see impact analysis teamsenter', 'bt datasets input', 'make w', 'problem release due change ownership issue', 'tominskiy gok engine spec', 'ordre motor nr dc dc ecc cabinet', 'change rev', 'class society suffix expansion joint', 'c rev g c rev g deleted urgent', 'c bom distribution sap plant', 'bom distribution sap plant', 'tc login problem', 'release material', 'dc', 'release material', 'ncr claim far sleipner open plant aftermarket urgent', 'dc', 'release ecn', 'hhi msc p revision plant spec c', 'mismatch tc sap cxss qn medium', 'release material', 'engine kleven pesquera ancora plant spec revision change ecc make visible sap', 'request rename classified part', 'need level bom report plant spec', 'c bom available production order sap urgent', 'release problem urgent', 'rename w item based updated save', 'c bom sap', 'dc', 'change owner', 'able release', 'warning approval dc', 'workflow prod', 'release', 'error approval dc', 'teamcenter teamcenter', 'rename w', 'cxss release', 'create sluxxx x v', 'need help revise due standard part admin', 'hhi msc p revision plant spec c', 'high', 'cxss release', 'releas', 'new classification', 'teamcenter teamcenter', 'c certificate', 'engine kleven pesquera ancora plant spec revision c made visible sap', 'bs arrangement artikkel', 'teamcenter teamcenter', 'renumbering w', 'rreb eng eastern glacier fish plant spec revision c made visible sap', 'fw pcb syl deksler til service test', 'replace item yet replaced', 'replace item yet replaced', 'release problem', 'c release problem sap', 'release material', 'ecn release sxb', 'westcon c bom update', 'rename cxss', 'new classification group', 'update sluxxx sap', 'generate cad dataset', 'urgent w renumbering', 'urgent x l sluxxx sap', 'rreb engine kleven pesquera ancora nozzle cleaner made visible sap', 'releas', 'classefication', 'dc', 'unreleased cxsss tppgl', 'engine bracket lifting engine brakett jekke verkt', 'release material', 'hhi msc p ecn dc eng', 'error release material', 'bom', 'dc bauhiresh missing m', 'standard component bolt needed', 'missing m', 'request standard part', 'problem logging tc', 'release material revision', 'bauhiresh structure x v', 'release material', 'workflow error', 'ecn dc utfordringer igjen', 'dc', 'rename size field', 'change ownership', 'check change ownership', 'regarding c', 'imo nox project assignement', 'item state error', 'create new paint number', 'rename item c splash oil arr', 'dc', 'klasisfication', 'create new paint number', 'error regarding release dc', 'renaming suffix w', 'release item sap', 'revise f', '', 'w suffix new item teamcenter', 'problem relase item c', 'teamcenter teamcenter', 'teamcenter teamcenter', 'urgent generate part family member', 'urgent creation new classification group', 'item sap', 'problem releasing dc xsc', 'rename revision item', 'update sluxxx sap', 'need new screw library', 'need new screw library', 'change ownership g b', 'new functionality tc', 'need check c', 'w renumbering', 'help release ecn', 'new classification group', 'overf ring fra tc til sap', 'govenor arr x v x v', 'check', 'release standard component', 'warning approve dc', 'rreb eng eastern glacier fish plant spec revision n c made visible sap', 'teamcenter login', 'g g', 'error approve dc', 'question regarding sap data tab view tc', 'release material', 'bauhireshs included sluxxx engine', 'log problem', 'som avtalt dc follow', 'incorrect material description turbocharger w', 'release material', 'release material sap', 'problem tc', 'tc sap bom difference', 'replace pdf item', 'pru hybrid shaft generator statsraad lemkhul', 'x v', 'dc', 'configurator work', 'error release process', 'dc xsc c', 'dc xsc', 'dc', 'dc c', 'level bom report work', 'haster feil ved release', 'change size tc sap', 'release material', 'misleading description sap', 'c skal ha motornr men er ikke istand til endre det selv', 'manglende produktinformasjon sap', 'wrong classification', 'process symbol unexpected', 'release issue', 'ecn dc', 'hhi msc p revision plant spec c', 'help release bauhiresh', 'change find tc sap', 'please classify item', 'release', 'bc trouble', 'item two classification category', 'beskrivelse av foundry bom creation', 'pl add geometry without taking new revision', 'rename revision engine block blank', 'urgent x v ah pre sluxxx', 'release flag donut', 'unrelease g', 'delete item', 'release material revision', 'high', 'renaming suffix w', 'rename cxss', 'revise', 'delte flag item revision', 'release revision card', 'renaming revision', 'c', 'problem update classification code plant specifiations', '', 'item available p m', '', 'high', 'dc', 'delete wrong item', 'release cxss', 'feil fil navn bom', 'eng x v ag luwuk mw gepp revision plant specification released', 'help release dc', 'unreleased cxsss enigne bom c', 'dc', 'change erp', 'dc', 'dc', 'datasett deleted able', 'ticket id srq nx license error', 'nx nx setup plmnordic prod modeling c pipe exh', 'renaming item c', 'plant item urgent dc', 'transfer ownership', 'krav til work sertifikat p c', 'able paste revision change', 'renumbering item verkstedsett dc', 'slett', 'dc', 'rename', 'release material', 'change ownership', 'change ownership', 'change ownership', 'help abort change', 'dc', 'change ownership cxss', 'tc error', 'change ownership release bauhiresh', 'change ownership item', 'release material', 'dc', 'error approval dc', 'error approval dc', 'question text file ar', 'pnas single level report', 'single level report', 'high', 'release material', 'geometry c nut hexagon metal self locking din', 'tc problem', 'release material', 'dc', 'whu donut released', 'dc sap description', 'renumbering item verkstedsett dc', 'unreleased item', 'help konfigurator', 'possible unrelease th revision c', 'kill material tc', 'dc', 'dc', 'think something wrong', 'alt rep item without ugmaster', 'problem release', 'renumbering item', 'material sap tc', 'renaming part', 'order eng x v ag tominskiy xsc', 'unreleased item', 'unrelease cxss need execute ecn', 'trouble making new revision', 'remove obsolete flag', 'error release foundry group', 'renaming', 'change name article', 'rename c', 'error message revision', 'dc', 'rename w', 'relase bauhiresh cxss', 'c', 'ownership c', 'dobbel r r fra motor mv eidsvaag pioner', 'rename item', 'c w cyl hd x gas mangler bom', 'cad cleanup', 'splash oil tegning', 'rename c', 'c w bom sap', 'renaming item', 'issue login tc', 'renaming old', 'problem releasing sap', 'request unrelease xsc', 'xsc', 'unrelease rev b c', 'regarding dc dc', 'dc', 'unrelease cxss', 'demand migration request arrangement dc', 'xsc', 'sluxxx sap', 'release issue dc', 'tc error', 'c cxss', 'teamcenter teamcenter', 'unrelease xsc front end module', 'please make classification society postfix item', 'change name size item', 'obselete part', 'approved bom release sap dc tuning mass engine ordre perform signoffs', 'xsc unable add item bom', 'sending arrangement sap', 'item marked obsolete tc', 'update ar tc', 'release change item state request', 'update ar file item tc', 'art wrong dim', 'create cxss', 'mismatch sap tc bom', '', 'dc child item released', 'inquiry electric cable', 'dc', 'releas problem', 'release material plant', 'c rev sap', 'dc xsc', 'dc xsc', 'please release material plant', 'releas problem urgent', 'hhi msc p', 'able release change', 'arr transferd sap', 'release item sap change item state', 'please check c', 'create item teamcenter old drawing', 'urgent w suffix', 'unable revise', 'release sluxxx', 'releas problem dc', 'wrong material specifyed item need changed', 'dc', 'engine olympic seafood ipas notification initial bom c bom report xlsx', 'rename cxss', 'teamcenter', 'update class society item', 'request new class classification mounting plug engine block', 'high', 'dc', 'release item sap', 'release item sap', 'bolt named wrong nx tc qn', 'change ownership xsc g', 'access', 'dc', 'dc', 'error release process', 'teamcenter stop working', 'dc approved mistake', '', 'cardinality error', 'bom c', 'dc', 'dc v dc', 'double referece ecn', 'pasting change problem', 'kan ikke logge p teamcenter', 'attribute manufacturer item id sap', 'delete revision', 'c spec change obsolete status change status', 'cannot log tc', 'change release status releaed', 'change part w classified part', 'dc', 'wrong value family table part', 'item sufix creation', 'dc', 'dc urgent', 'erp', 'cammel laird nerc gammel anleggsspes', 'change status release cxss', 'change status cxss', 'approved bom release sap dc turbocharger x l perform signoffs', 'c sap', 'remove obsolete', 'release item', 'urgent change', 'engine block without classification society', 'releasing xsc', 'send item tc erp sap', 'rename xsc revision', 'c marked obsolete supposed', 'remove release dc', 'problem releasing xsc', 'classification issue', 'error opening', '', 'quick release', 'interface error', 'teamcenter teamcenter', 'c', 'short lead item engine nassco', 'tc error', 'c', 'signe plant spec', 'tc error', 'item marked obsolete tc', 'sap', 'c c', 'tc error', 'dc', 'dc', 'c c bracket pump oil machining change drawing name', 'rename cxss', 'suffix screw hexagon head', 'gr nn endringsmelding dc cylinder head k gas new inlet valve', 'rename number w', 'c bom sap', 'dc', 'dc', 'dc preliminary release', 'unrelease item', 'dc', 'check release work see image', 'check', 'nufri mb engine block', 'urgent need fo po gru greenhouse project transfer sap stopped', 'c something wrong', 'correction sap attribute', 'approved bom preliminary release sap dc xsc cylinder pressure x l preliminary signoffs', 'problem taking new rev b pipe water high temperature', 'help getting item released', 'marked obsolete teamcenter ref product change board', 'unrelease c rev b', 'cxss pressure reg arr mnt', 'workflow available super user role ecn item type', 'teamcenter update', 'wrong message teamcenter', 'cant open file tc', 'make pdf mrb', 'wrong classification pg niples f', 'high', 'trying quick release flag', 'unable release change notice dc pump room arr electrical piping c avr', 'material lost tc m', 'dc', 'dc', 'dc', 'update plant status item teamcenter', 'allowed procedure procedure', 'f r ikke tatt ut f tegnings nummer', 'teamcenter part', 'standard part', 'rename c c', 'change ownership xsc c', 'cant find c w', 'dc mounting intermediate wheel x x v', 'new classification groope', 'release material sap', 'initial bom havila kystruten l l', 'initial engine bom engine', 'un release item teamcenter', 'issue cxss need manage pending component', 'dc', 'release material sap', 'delete clasidication', 'release urgent', 'change dc', 'please generate part family model', 'delete revision', 'teamcenter update', 'delete revision', 'help releasing item', 'able print bom tc', 'nx nx setup plmnordic prod modeling c lifting', 'change w', 'error approval og dc', 'release cxss sap crank case vent', 'dc cxss', 'error message classified', 'blank ugmaster altrep creation', 'error approval', 'send sap', '', 'sap', 'prioritization material number', 'resend', 'rename c', 'dc issue release ecn', 'error releasing ecn', 'various task tc sap', 'copy item creation template v xlsx', 'unrelease g', 'access workflow process', 'change ownership', 'material number ingeteam', 'ingeteam material sap', 'compressor cleaning wessel', 'classification turbocharger spare part kit', 'failed auto distribution c', 'please look thought wy happens', 'check b', 'change ownership lewis', 'lop x xx xx tc ocnreleaseprocess issue org review docx', 'check item c', 'overf ring av eierskap', 'correct flag donutt', 'c xkb revised new item created engine control cabinet', 'release transfer ownership', 'blank ugmaster', 'unrelease', 'unrelease', 'please check c', 'releas dc', 'problem regarding revising c', 'item uom c', 'item ext connection exh manifoldcov', 'error', 'rfq new foundation c', 'new item need model', 'release material', 'item', 'sap', 'c bom report xlsx', 'hhi msc p revision plant spec c', 'dc', 'orer engine olympic seafood nb pnas single level report sap', 'create cxss', 'teamcenter problem system error', 'release item', 'released item sap', 'create sluxxx', 'dc', 'c classification', 'dc', 'sluxxx sap x l', 'w issue please help', 'dc', 'c w c w error message', 'preliminary status tc', 'item c', 'release material', 'art missing drawing ref l', 'release sap cxss', 'error release', 'blank c', 'teamcenter problem unable log system error', 'missing sap plant spec c', 'error bom', 'copy ugmaster', 'plant spec c', 'team center programme open', 'need model dataset', 'item tc', 'unrelease rev', 'help changing drawing teamcenter', 'assistance needed', 'dc', 'dc', 'dc', 'dc', 'renaming', 'release material', 'error release', 'cad model bolt x', 'cad model', 'bacelona wg ymatetl error material x v product hierachy', 'nx warning suspect', 'error approval dc', 'obsolete', 'renaming', 'error releasing ecn', 'part obsolete', 'c spesial paste drawing', 'transfer ownership thomas tveiten lewis engineering application', 'initial spec risk release', 'new item need model', 'item renamed w', 'error creating bom report', 'error recovery message nx placing weld symbol', 'ownership bvr c', 'create cxss', 'adding foundry bom c w c w', 'sap logon required upon release', 'interface user p team got locked unable send data sap', 'dc itemworkflowrules txt notepad', 'create cxss', 'cannot release chang order', 'please release baustien sap', 'mising bom cxss sen pocket plug eng sale order production order x v engine', '', 'standard part', 'release c', 'sap', 'revision engine block complete', 'change size c', 'error releasing dc', 'check inn', 'blank ugmaster', 'transfer ownership c', 'transfer ownership c', 'geometry standard component', 'error releasing c c', 'error releasing c c', 'error releasing c c', 'x v p', 'transfer ownership', 'use pnas dc item assign give f drawing dr drawing', 'ok super user unrelease release spa generated item', 'problem dc transfer sap', 'error tc', 'teamcenter', 'missing geometry standard part', 'dc', 'uten suffix', 'extende c w til', 'error release', 'dc', 'dc', 'update class society item boms', 'server problemer', 'tc login problem', 'problem login', 'stykklisten til motorblokk w', 'login problem', 'change ownership xsc request', 'nx nx setup plmnordic prod', 'dc transfer sap', 'transfer dc sap', 'dc transfer sap', 'reference error', 'delete revision', 'nx license issue resolved', 'c missing tc', 'transfer sap need help bc', 'release problem', 'bc sent sap', 'transfer bc sap', 'release issue', 'teamcenter installation delhi user', 'bc sap', 'c w drawing', 'bc transfer sap', 'check', 'transfer bc sap', 'delete request xkc c dc', 'error message', 'bc sap', 'team center programme open', 'bc sap', 'bc sap', 'ecns distributed m', 'release cxss l p sluxxx', 'x l p sluxxx ecn dc error', 'change dc', 'transfer bc sap', 'transfer bc sap', '', 'insert dataset', 'nassco generator change classification', 'art', 'art', 'release xsc', 'legacy', 'change name org revision', 'missing drawing teamcenter', 'initial bom tersan nb norlaks l l l', 'x feil lengde p', '', 'save funksjon', 'create cxss', 'dc', 'incorrect bom structure xsc equip mod equip c pump end mdo', 'ownership', 'f c', 'missing sap plant spec c', 'dc error', 'pl release sap asap update name', 'insert ar release item c c', 'engine block wrong item state wrong material type', 'approved bom release sap dc motorblokk maskinert x v hfo perform signoffs', 'delete part', 'sap', 'issue workstation', 'pnas status v item rev status', 'cad model standard part', 'please remove test part w', 'rename w', 'folder cleanup', 'ownership item', 'step file dwg item c', 'den var ny', 'cxss', 'rename cxss', 'xsc', 'teamcenter gateway license available', 'double reference item revision', 'c layer setting', 'missing bom c', 'four wrong description', 'cxss', 'space classification manufacturing record book', 'release', 'error message gateway license available', 'licesece error', 'warning approval dc', 'insulation cxss preliminary release', 'warning approval dc', 'x x l engine block class suffix replace w main bearing cap', 'rename cxss', 'new classification groop', 'error approval dc', 'cad model standard part', 'make class part', 'delete', 'dryrun need refresh', 'help release', 'please release cxss', 'change name size article bauhiresh', 'cxss', 'missing revision card migration', 'release cxss', '', 'help release sap', 'please release sap', 'please release sap', 'please release sap', 'main bearing shell big end bearing', 'check release give crash dc', 'item c wrong name drawing data set', 'cannot release item nb', '', 'dc warning', 'please release sap', 'release material', 'help delete', 'dc error', 'help regarding post fix', 'prelinenrary release dc', 'renaming pdf', 'vrake lagerbeholdning', 'revise', 'nx problem', 'dc generator x v doc', 'c changed classification sap remove pending sign', 'dc warning', 'xsc', 'spare part list commissioning bv ag', 'release issue', 'request deleting f', 'feil ved revisjon av', 'rename bauhiresh', 'fuel injec pump drive dobbel bom', 'issue converting w', 'exhaust ventilation fan exp join', 'delete item', 'missing copy access', 'dc', 'replace old document nr new', 'replace old document nr new', 'make new drawing f', 'check release', 'material type change request p m', 'release material', 'error message', 'forkantaksling motor', 'creation class suffix item c', 'teamcenter teamcenter', 'unable check', 'request release cxss', 'standard component', 'problem release dc', 'create new cxss class post fix', 'replace stp file c', 'following article missing geometry', 'release item', 'feilmelding inng r k', 'space classification manufacturing record book', 'mix child class society item', 'error release dc', 'delete item', 'item actually cad machining', 'unable check item', 'ref c w', 'suffix w foundation drawing', 'delete item without suffix', 'high priority v', 'c', 'renaming', 'release issue', 'help releas item', 'xsc', 'create cxss', 'unrelease g', 'rename b cxss', 'rename b cxss', 'crankshaft kit dnv sertificate', 'unrelease g tag pre marked', 'feilmelding tc', 'revision b item c bracket gas pipe pl', 'help release dc', 'release cxss', 'add plant', 'rename cxss', 'rename cxss', 'release material plant', 'unable log tc', 'xsc', 'stykklister uten tegning feil tegning revisjon', 'obsolte', 'c c delete obsolete', 'removal workflow ring', 'problem loggin teamcenter', 'renaming', 'help', 'remove clas', 'dc', 'delete revision teamcenter', 'c release status', 'class society part connecting rod big end', 'renaming', 'renaming', 'dc flexible coupling release issue', 'change drawing reference item c xsc', 'renaming', 'class sufix', 'item need obsolete tc sap', 'dc error', 'dc error', 'dc error', 'dc error', 'renaming', 'renaming c', 'renaming cxss', 'send cxss sap', 'new cxss', 'release material', 'item fully threaded', 'renaming cxss', 'renamin cxss', 'item', 'check send sap', 'editing xsc', 'rreb eng x v rgk zeya mcp extension cancel', 'error drawing', 'could please add name size text part', 'error approval uat tet environment', '', 'delete revision r c', 'classification', 'cxss', 'rename item nr w', 'rename cxss', 'rename cxss', 'unrelease released eng spec', 'dc elektrisk utstyr p motor haster', 'send sap', 'manglende stykkliste c', 'release item sap', 'quick release problem', 'rename', 'dc error', 'teamcenter teamcenter', 'error message', 'sv sv teamcenter virker ikke som det skal', 'cad model bolt x', 'new classification name', 'dc error', 'add hiresh golten receive approval task perform', 'please classify item described', 'liten skrivefeil tc classification', 'removal workflow ring', 'updating verkstedsett', 'renaming cxss', 'cxss incorrect bom structure', 'change size name part', 'revisjon remame', 'revision rename', 'flag doughnutt', 'sufix creation', 'revision w', 'release issue', 'delete item tc', 'strange numbering revisioning displayed', 'error approving dc', 'unrelease ugmaster c', 'gondan c new item created silencer', 'renaming', 'part plea change size name text', 'urgent approval problem dc', 'approved', 'error approval dc', 'material passed mcc workflow without available boms drawing', 'update class item according new revision', 'dc error urgent', 'please unrelease art xkb', 'release item', 'teamcenter oppstarts prosedyre', 'language degradation', 'tc problem', 'could get license application', 'tc', 'error opening file', 'nx failing open assembly c', 'teamcenter problem', 'minor amendment size name item', 'unrelease', 'og w', 'teamcenter issue today', 'tersan nb new revision plant spec', 'release material', 'request creating release cxss', 'mrb dc', 'w issue', 'able paste green message f drawing', 'order eng x v ag ksrm power plant ltd rev f plant specification c', 'release item', 'cad model sae flange', 'routing av deler til service bd', 'unrelease g eqiupment module', 'cad model c pipe x st standard', 'cxss creation', 'approved bom release sap dc release change cxss ecn release perform signoffs', 'item wrong reference drawing', 'w item', 'issue trying delete assembley', 'make cxss', 'bom sap dc xkb', 'huc hu haster urgent', 'classification teamcenter pdf', 'please release', 'release material', 'replace f f ref c', 'fix', 'transfer ownership', 'sett dette f r', 'delete sm', 'able delete bom view revision c', 'jt showing bulkhead', 'providing item', 'renaming', 'cxss creation', 'warning approval dc', 'request fro creating cxss', 'rename c c w', 'request creating cxss', 'feil nx', 'tc p logging', 'problem ved pning av nx pnes nx fra tc', 'rename item', 'rename item', 'nx nx setup plmnordic prod modeling xsc', 'teamcenter', 'release cxss create class suffix', 'make obsolete', 'create release bauhiresh item', 'remove unrelease dc', 'po x connecting rod bv engine', 'delete part number c', 'status error important', 'delete part number c', 'q', 'add drawing f release without sending sap', 'intenal error nx', 'problem item state mapping', 'liten skriveleif tc classification', 'renaming', 'remove revisiona document td', 'problem teamcenter', 'error approving dc', 'add suffix china class item', 'item state missing', 'dr og dr change item name size', 'xkb', 'xsc', 'scope part creation mom', 'approved bom release sap dc replaced po ecn release perform signoffs', 'error approving dc', 'delete revision cxss', 'geometry item c male stud coupling p gev l r l', 'c', 'help getting suffix c', 'release rule fix', 'cancel workflow process dc', 'regarding dc', 'update mrb classification', 'tersan cyl haster', 'urgent delete revision b c', 'tc err', 'revise issue fixed c', 'srq change dc dc engine forwarded', 'new classification name tc', 'able revise item w', 'custom library', 'access sluxxx l', 'renaming', 'forslag til ny klassifisering', 'delete revision c cyl head complete', 'cad model sae flange', 'urgent unrelease xsc', 'delete revision c w o', 'nx nx setup plmnordic prod drafting cooli', 'create new cxss c class suffix', 'w request', 'release material', 'endring bom south staff water', 'configuration manufactoring record book delete page', 'rename c c w', 'issue sap dc', 'renaming article number', 'change ownserhsip', 'part number tc suffix', 'tc problem paste tif format revision', 'feil tegningsnummer', 'deletion b item', 'redistribution failure', 'x v ag eng invenergy altamira request unrelease rev g c', 'paste f drawing text file c c', 'suffix w', 'losing server connection using bom report tool', 'external proxy relation c w', 'error approving dc', 'save issue', 'ew standard part c screw cyl head hex socket x', 'order eng x v ag ksrm power plant ltd request unrelease rev g plant specification c', 'error approving dc', 'fil buffer', 'suffix issue', 'rename w', 'revise part list teamcenter', '', 'scope part creation mom', 'delete item c', 'missing w suffix foundation c', 'error opening teamcenter', 'change name size field', 'dc silencer', 'undo w c', 'release material sap', 'f name change', 'fw ri urgent geonisio barosso', 'rename c', 'change ownership', 'classification', 'bom c', 'created c reducer', 'rename create cxss', 'warning message approval dc', 'remove un released revision', 'v approved bom release sap dc counter flange ecn release perform signoffs', 'release material', 'error opening item nx', 'rename item', 'error message approving dc', 'sluxxx x l', 'sluxxx ownership right', 'removal w part', 'update ar card item', 'error approving dc', 'wg srq idoc error message type ymatsun forwarded', 'ecn dc', 'release sap', 'error approving dc', 'new classification group', 'bom report teamcenter error', 'fw teamcenter problem', 'help make cxss', 'create cxss item', 'material til b kortslag aksling', 'error approving dc', 'revise existing item number suffix', 'error approving dc', 'renaming article number w', 'new classifcation name tc', 'sv levering av fra norsk st l po po', 'renaming c c', 'delete item c', 'fw urgent pipe material hm protector urgent du', 'fw tegningsrevisjoner', 'error message', 'new ring', 'error tc', 'make item dead', 'error dc', 'error release plant spec c plant specification supply package', 'fw order pc liner ab cert', 'release cxss cxss', 'fw mangler cad', 'teamcenter teamcenter', 'connect td c', 'art c w', 'tif drawing missing released item', '', 'delete tifs preliminary released article', 'revision bom class item w b cc l', 'make cxss standard part', 'cad file bolt x din', 'unrelease f rev b', 'fw dc c', 'ecn bom transfer sap completed dc new engine spec new task', 'create cxss', 'c lub oil priming pump x v plana', 'request linking f c', 'name cxss', 'quantity tc bom cxss', 'fw order pc liner ab cert', 'issue loading dwg nx', 'release item', 'update bom c', 'request cxss', 'plant specification c rev c', 'data wire coil component', 'error approval dc', 'unrelease', 'renumber c xsc', 'article number c b rename', 'delete item revision', 'cloned wrong folder', 'problem sending dc workflow', 'create cxss', 'cancel release process', 'rename cxss', 'rename cxss', 'threaded hole missing dimension x x', 'g', 'update material k', 'make new cxss standard part nb', 'error approval dc', 'rename w', 'new classification electrical equipment arr', 'order eng x v ag tominskiy dc', 'error new revision', 'wrong weight external component', 'b fails revised', 'renaming article', 'release item', 'delete xsc c', 'error approving dc', 'renumber two item w', 'bauhiresh', 'c certificate', 'mark obsolete', 'error whn approving dc', 'error approving dc', 'make new cxss standard item', 'error trying release bom', 'fw lage revisjon endre navn og klasse art nr', 'renaming', 'item need resent sap', 'tc gruppe', 'xsc classification fail', 'urgent assign button sync', 'removal item tc', 'urgent create cxss', 'please release ecn', 'fw login fails', 'renaming c', 'error attaching flexim', 'release item', 'please release item', 'create cxss', 'error approving dc', 'error approvin dc', 'error approving dc', 'rename cxss', 'issue bom report structure manager', 'bauhiresh', 'stadard artikkler', 'release item', 'delete g rev', 'class suffix', 'save jt button dosent work', 'unrelease drawing', 'regarding unwanted created service item conflict class suffixed item', 'make obsolete c xsc', 'ocn release', 'urgent part number replaced', 'tc', 'release item', 'v tilbake til c', 'xsc', 'release item sap', 'save issue', 'save issue', 'renaming', 'renaming', 'duplicate number fixing', 'new standard part', 'rename revision', 'bom report empty', 'new standard part', 'new standard part', 'create certificate item', 'error message approving dc', 'nassco change size two alternator', 'change manufactorer crank case vent component', 'rename revision', 'classification teamcenter', 'change strength class', 'chjange f w f', 'able delete started revision', 'missing ugmaster', 'model art', 'model art', 'c bom report xlsx', 'add text size name', 'new standard part c', 'change size c dn j pt', 'model nx correct w', 'geometry item', 'new standard part external component', 'cad model c', 'send sap', 'error approving dc', 'abel save', 'class suffixed item yet released', 'register part tc obsolete fw new material number sap vibratec silencer obsolete vendor non existing', 'request creating cxss', 'new item tc', 'rename w', 'release av eldre item', 'locked item', 'error approving dc', 'c silencer exhaust gas status obsolete', 'l sluxxx update failed due plant distribution', 'error message approving dc', 'delete item revision', 'v feil tc', 'part list tc', 'item marked obsolete tc', 'dc correct released', 'change information note item', 'item c', 'new item number c', 'renaming', 'thoma sea mc eng', 'process flow', 'error message approving dc', 'initial name code', 'error message apprving dc', 'microsoft excel pnas c bom report xlsx', 'new material required p gh', 'fw c c obsolete material', 'dwg issue', 'geometry item', 'error message check release', 'thoma sea mc eng ecn dc', 'add drawing arrangement paste special reference', 'teamcenter teamcenter nassco generator change', 'fw delete item revision', 'remove manufacturer item id', 'request revision f', 'remove manufacturer item id', 'nassco change generator description tc', 'possible remove bom', 'error part', 'send item bom', 'fw dn gasket', 'boms distributed m', 'urgent v bc er sap idag', 'error message approving dc dc', 'register part obsolete', 'teamcenter teamcenter', 'material', 'error approving dc', 'able release', 'remove user approver list ecn workflow', 'c equipment module complete possible open', 'rename w', 'fw ikke sap er baan ea', 'rev card missing tc', 'classification fail raw material', 'rev card missing tc', 'tc error', 'item without', 'rename w', 'new standard part c', 'geometry item c', 'tc update bom sap reflect latest drawing revision', 'renaming', 'make obsolete please make following item obsolete', 'sluxxx x v p', 'rename cxss', 'delete rev n', 'cxss bom m', 'fw rename cxss', 'change rivision code', 'change name size field x c', 'rename cxss send sap', 'f replace drawing tc', 'new fastener art c', 'standard part generate', 'new standard part c', 'c dublicate', 'fw inquiry', 'replace drawing tc', 'rename article number c w', 'v komponent med b e flagg og kringle', 'strange bom result', 'new material', 'new basic material needed sap', 'rename w', 'class suffix w', 'er replaced class suffix workflow super user', 'fw teamcenter problemer med tc bom report', 'new classification groop', 'make obsolete c', 'make obsolete c', 'urgent rename create', 'revise', 'enhancement request change item without bom', 'tegn ut crankcase door flywheel end machining jev tgn pdf', 'create cxss', 'renaming c', 'error message approving dc', 'error approval dc', 'fw delete item revision', 'bom need class suffix', 'clarification regarding classification society', 'fw error approval dc transfer m', 'insert step fil teamcenter', 'make obsolete', 'help make suffix b nb urgent', 'fw c cabinet assy network xsc', 'fw quantity salesorder zeya', 'help regarding classification', 'fw problem att ta ut ny rev p c qn', 'delete rev k eng spec', 'add model item', 'release issue', 'raw material classification', 'error opening', 'ab suffix', 'ar text modified teamcenter available p still m', 'part number classification suffix cxsss', 'fw problem revising c w power take shaft', 'thoma sea mc eng ecn dc', 'fw pakning gj re obsolete tc', 'make obsolete c xsc starting air receiver l', 'xsc', 'release item', 'release item', 'new item need model', 'tc error', 'art c', 'renaming c', 'v connecting rod blank suffix needed', 'fw error fix item state mapping item c', 'lo dual type cooler m nordnorge andre hurtigruten ombygginger evt c f', 'missing din information item', 'make bauhiresh std article', 'renaming', 'installation tc', 'delete rev b', 'error approving dc', 'v', 'new classification name', 'fw artikel', 'need two cxss', 'new classification name', 'fw endringsforslag p po', 'fw release class society item c w b foundation engine generator machining notify classinspection', 'register part obsolete', 'revision fail item', 'update naming tc piston crown', 'register part obsolete', 'fw c made obsolete', 'item replaced suffixed item', 'sit testing missing manifestation folder bc', 'ugmaster component c', 'fw c scope', 'fw obsolete c', 'hi', 'make obsolete', 'make obsolete c', 'fw item prosedyrer', 'er item creation engineering group basic user', 'request creating cxss', 'make obsolete c', 'new fastener art c', 'fw rfq c con red x x', 'make obsolete c', 'make obsolete c', 'make obsolete', 'fw arrangement behalda eller sletta', 'problem choice raw material', 'fw application elisabeths workshop list xlsx', 'release issue dc', 'error message approving dc', 'save problem article c', 'item sap xkb xkb', 'motor', 'release class society item c cover receiver flywheel end engine block machining notify classinspection', 'flag process symbol approvel dc', 'unrelease c revision', 'problem check release', 'release material', 'exter cix node guarding utvikling x p g r set status', 'release material', 'please release material', 'suffi item creation c', 'tc issue login', 'rename w', 'update naming tc piston crown', 'unrelasing item', 'teamcenter teamcenter', 'mrb', 'unrelease eng spec', 'standard part missing', 'missing word doc dr item', 'update naming tc piston crown', 'rename c c w', 'flag workflow symbol item xsc', 'shanghai salvage dc', 'title block dispaly issue', 'visible drafting', 'please close open node nobrgsv', 'wrong pdf item c', 'unrelease art', 'new item need model', 'new item need model', 'new item need model', 'new item need model', 'new item need model', 'release bauhiresh cxss', 'v manglende info p koksring', 'c release flag workflow symbol', 'release item', 'remove referances tc', 'yellow mark structur manager compare funktion', 'error structure manager', 'fw oppdatering update viktig urgent kort nedetid p teamcenter server short downtime teamcenter server', 'enhancement suggestion', 'c', 'missing modell', 'rename c c w', 'change size', 'change size', 'release item', 'ybei issue dc', 'change size classification', 'fw order eng x l ag neoelectra el grado dc', 'fw suffix letter w', 'wrong process template releasing plant specification', 'new bolt crmov', 'open item revision', 'new ind std desc vlaues', 'question regarding removal ar text teamcenter', 'model', 'add item c', 'fw oppdatering update viktig urgent kort nedetid p teamcenter server short downtime teamcenter server', 'tc bom report action', 'size field', 'release item', 'oppdatering update viktig urgent kort nedetid p teamcenter server short downtime teamcenter server', 'model', 'wrong item state', 'release item', 'material needed suffix', 'release material', 'sap user locked', 'fw team center installation delhi user', 'issue tc', 'release item', 'make obsolete c c', 'er new basic material tc crmov qt', 'classification teamcenter', 'error approving dc', 'error approving dc', 'customer supplied material process step', 'renaming article w', 'suffix c', 'bolt', 'bolt', 'new item need model change material', 'new item need model change material', 'new item need model change material', 'new item need model change material', 'error approving dc', 'change item state', 'renaming article', 'delete pdf til c', 'name classification change c c', 'typing error', 'url tc', 'check befor release', 'add drw numberin tc', 'error approving dc', 'fw order eng x v ag ksrm power plant ltd rev plant specification c', 'material item c', 'missing bc yesterday', 'order eng x v ag ksrm power plant ltd rev plant specification c', 'keep getting assigned tc server', 'new item need model change material', 'wrong classification tc', 'change ownership', 'change ownership', 'sv teamsenter', 'fw kan du lage r r c tillegg', 'migration win missing program', 'able make tc bom report', 'part number open', 'xsc c xsc c change description', 'remove revision', 'ar datasets item', 'release item c', 'bolt c', 'error given tag exist', 'create cxss', 'v approved bom release sap dc central cooler ecn release perform signoffs', 'delete item', 'bom missing', 'error approving v approved bom release sap dc revisjon generator arr ecn release perform signoffs', 'ar text item', 'new standard part', 'missing modell', 'adding ug master released item', 'fw item classification scope', 'release item cxss tc', 'new classification groop', 'distribution bom p m', 'fw ang dc', 'ang dc', 'add item state tc', 'copy available', '', 'new standard part', 'error saving impact several item', 'warning dc', 'rename', 'create cxss standard part number', 'unrelease drawing item', 'renaming', 'hit ok continue', 'save jt problem', 'c cxss cover front shaft cover gasket', 'release item', 'please change name part', 'removal un wanted curve', 'request size text change c c', 'v approved bom release sap dc release main pto flexible coupling ecn release perform signoffs', 'wrong pitch bolt', 'v approved bom release sap dc spes endr fuel rack indicator arr ecn release perform signoffs', 'got temporary issue trying revise defaultbusystatus msg', 'setting', 'missing iems tc bom report single level c', 'please check ar text item', 'release item', 'un release c', 'idoc correction x l yerz', 'tc export', 'delete model', 'make art w suffix bauhiresh', 'add class power station scope mechanical', 'create class sufix', 'please change item name size following item', 'error approving approved bom release sap dc cust drawing resilient mounting ecn release perform signoffs', 'error approving v approved bom release sap dc new engine spec ecn release perform signoffs', 'error approving v approved bom release sap dc xsc xsc xpc b xpc ecn release perform signoffs', 'fw feilmelding', 'rename w', 'wrong excel sheet tc', 'release class society bom dc spes utsendelse syl deksel komplett x gasstilsluxxxtning forkammerhylse kj lehylse ref pcb', 'update item drawing', 'patch error', 'create item class suffix', 'item state size missing c', 'tc attributts', 'incorrect standard part', 'error message approving v approved bom preliminary release sap dc motorblokk x v marine uht komplett', 'tc patch install needed', 'error message approving v approved bom release sap dc front end module upper x v ecn release perform signoffs', 'change dataset release item', 'tc patch', 'wrong size stauff', 'delete rename revision', 'mrb converting pdf', 'fullf rt completed nedetid p teamcenter server downtime teamcenter server', 'release material', 'reminder urgent downtime teamcenter server', 'several item missing information', 'item', 'item', 'new standard item', 'unrelease', 'change size name classification', 'patch tc', 'cad model lifting eye x', 'error approving dc', 'error approving dc', 'error approving dc', 'tc article update', 'warning approval dc', 'new standard part c', 'v part list tc urgent', 'installing new patch tc', 'install tc', 'error approving dc pipe injection pump room arr x v', 'fw completed downtime teamcenter server', 'tc patch installment laptop', 'reclassify c', 'installation patch teamcenter', 'invalid part tag', 'patch update teamcenter', 'unrelease item', 'fw teamsenter', 'tc error', 'oppdatering av tc', 'new bc sap morning', 'fw fullf rt completed nedetid p teamcenter server downtime teamcenter server', 'change mandatory attribute set pc', 'fw teamsenter', 'v teamcenter error', 'jet air starter plana', 'release material', 'v tc starter ikke', 'tc starter ikke', 'tc starter ikke', 'bolt', 'bolt', 'bolt', 'bolt', 'bolt', 'bolt', 'fw tc oppgradert', 'rev c tif missing', 'patch installation', 'new bc morning sap', 'bom transfer p m tuesday wednesday', 'warning aproval dc', 'fw microsoft edge', 'fw teamsenter problem', 'fw fullf rt completed nedetid p teamcenter server downtime teamcenter server', 'change item size c', 'wrong excel sheet tc', 'sv team center error', 'fw installere teamcenter', 'fullf rt completed nedetid p teamcenter server downtime teamcenter server', 'fw new fastener art c', 'fw save issue imo nox component c', 'urgent create new cxss', 'fw teamcenter', 'release material', 'fw team center som ingen kunne finne gitt', 'fw klasser til delhi group', 'nx nx setup plmnordic prod modeling xsc', 'fw installering av nx', 'mrb teamcenter classification', 'er mrb teamcenter generating pdf dc', 'request rename item w', 'new dr mrb engine', 'fw rfq', 'er fw nx start icon missing', 'wrong excel sheet tc', 'generate pdf mrb dc', 'install patch teamcenter', 'issue changed revision number', 'make item obsolete', 'error approving dc', 'generate pdf mrb dc', 'make bauhireshs existing item', 'c', 'correct attribute standard item', 'attribute', 'change size tc', 'unrelease f', 'warning approving dc', 'new classification name tc', 'delete rev c', 'patch install tc', 'xsc bom error', 'standard part admin access', 'access f', 'warning approving dc', 'fw bauhiresh transfer sap work bench standard tool', 'feil arr', 'release', 'warning approving dc', 'request change item state item c', 'need model', 'delete c pipe exhaust', 'er incorrect setup document item type', 'tc patch', 'cxss bom sap', 'cxss bom sap', 'generate pdf mrb', 'generate pdf dc', 'mrb generate pdf dc', 'patch teamcenter', 'change class', 'new classification group', 'release item c', 'sv tc attributts', 'change item state size drawing el el', 'invalid tag opening ugpart', 'error approving dc', 'unrelease item c', 'make cxss', 'generate pdf mrb dc', 'generate pdf mrb dc', 'request list xl obsolete part', 'generate pdf mrb dc', 'po c pdf rfq haster onninen', 'generate pdf mrb dc', 'wrong drawing nr material nr c f', 'requirement technical spec drawing material c', 'change size field', 'warning nx', 'generate pfd mrb dc', 'td', 'classifcation class', 'er add user ocn workflow', 'request creation cxss c', 'generate pdf mrb dc', 'description c pipe seamless x x', 'sent snipping tool', 'fw c resilient mounting buffer erp', 'feilmelding', 'issue changed revision number c', 'notif rev card missing', 'change classification', 'er ecn workflow approver approver mail receiver', 'teamcenter teamcenter', 'fw c resilient mounting buffer erp', 'generatpe pdf mrb dc', 'generatpe pdf mrb dc', 'changing size g', 'invalid model', 'nx nx setup plmnordic prod drafting g mai', 'er fw klassenavn teamcenter', 'approved bom release sap dc release cxss ecn release perform signoffs', 'bom report issue', 'please release', 'generate pdf mrb dc', 'er clas society classification mrb', 'deleteing revision', 'er enhancment request', 'unrelease c', 'change relation attached part tc', 'change revision element tc', 'generate pdf mrb dc', 'release material', 'tc login issue', 'add word doc item revision', 'generate pdf mrb dc', 'fw please review plant spec eng spec bom c plant specification testps supply package ocm select signoff team', 'graphic problem title field drawing', 'waring approvin dc', 'extend material number suffix', 'fw generate pdf mrb dc', 'generate pdf mrb dc', 'generate pdf mrb dc', 'class suffix c w rev', 'w', 'patch foresp rsel', 'fw ang dc', 'error printing bom teamcenter', 'generate pdf mrb dc', 'generate pdf mrb dc', 'fw c', 'pnas bom report', 'er enhancement request', 'change clasification part', 'error approving dc', 'error approving ocm', 'change size name', 'fw material creation tc', 'pnas bom report', 'make bauhiresh', 'drawing number', 'obsolete confirmed obsolete', 'ecn check', 'dr document show structure manager', 'release item', 'error approving ocm', 'unrelease', 'unrelease item', 'pnas bom report', 'new classification groupe', 'xsc', 'v gr nn melding tegningsendring sylinderdeksel x ventilseteutboringer ref avvik', 'issue dc', 'change item c', 'new art nr standardpart nut', 'error approving dc', 'dc dc', 'workflow failed', 'ecn dc release completed successfully', 'rev', 'adding bom report plan spec', 'fw flagged std prt', 'update mrb dc', 'pnas bom report', 'dc', 'classification c', 'error approving dc', 'correction classification item', 'model standard part', 'erp uom change', 'hi erik', 'c xsc c xsc', 'correction classification item', 'adding info manufacturer fails', 'error classification', 'remove item', 'modell x allen screw', 'c xsc c xsc', 'unrelease', 'unrelease', 'delete revision', 'change bauhiresh size', 'fw teamcenter error', 'mrb generation', 'mrb generation', 'mrb generation', 'mrb generation', 'help changer owner urgent', 'request creation cxss c', 'error approving dc', 'hhi ettersende deler til jb spes', 'v bd spare required added electrical instrumentation', 'unrelease drawing', 'pnas bom report', 'able make bom report', 'change size', 'need bom specification drawing', 'missing drw tc', 'clone folder instead save', 'dc', 'requirement drawing technical document material c', 'issue single level bom report', 'item c marked obsolete', 'bom report', 'unrelease f', 'mrb generation', 'mrb generation', 'unlock f f', 'dc', 'change plant status item', 'error bom', 'fw completed downtime teamcenter server', 'fw bacelona ymot number product hierarchy k', 'unrelease g drawing', 'class suffix', 'unrelease f f', 'creation model', 'fw creation model', 'ownership change', 'fw nx question', 'c teamcenter structure', 'problem creating new article number', 'dc', 'item state change following item', 'item c c release', 'obsolete w suffix', 'art c', 'new standard part', 'sv access teamcenter', 'bom report empty', 'dnv class suffix item', 'dc', 'correct revison tc', 'dc error', 'bom update', 'error exporting jt nx', 'c error', 'geometry x stud steel', 'need bom specification drawing', 'c obsolete', 'size name change', 'bom report teamcenter', 'request technical specification', 'dc', 'dc junction box mmi el mbearing x', 'passord', 'change engine type tc classification', 'bom report teamcenter', 'bom report teamcenter', 'bom report teamcenter', 'generate pdf dc mrb', 'dc', 'bc approval', 'generate pdf dc mrb', 'generate pdf dc mrb', 'change item state bs ship loose cxss', 'help regarding changing pdf', 'dc', 'request technical specification', 'generation cxss item', 'create new cxss class suffix', 'create class suffix item', 'dc', 'bom report teamcenter', 'dc dc', 'move drawing one item onother', 'create suffix w', 'er image tc', 'error revision xsc', 'namechanges', 'mechanical routing working', 'rename w', 'fw cpm sensor', 'bom report empty', 'rename w', 'still process symbol dc v approved bom release sap dc spesutsendelse turbolader og ladeluftkj ler napier og wmc ecn release perform signoffs', 'warning approving dc', 'error approving dc', 'stop releasing dc suddenly time', 'v dc', 'need assistance item number', 'release item', 'convert item w', 'error approving dc', 'namechanges', 'teamcenter working', 'error approving dc', 'please check ar dataset c', 'please change ar dataset c', 'revice problem', 'problem trying revise c', 'item c sap m', 'new bc sap morning', 'fw bom report teamcenter', 'able send item sap', 'release class society item c w engine block compl add machining assembly notify classinspection', 'eng spec bom c error approving ocm', 'error approving dc', 'revising item', 'installation nx', 'new bc sap morning', 'error drawing', 'drawing team center', 'access team center', 'new standard part', 'error message approving dc', 'release material', 'missing std part', 'add f item reference', 'ownership change', 'release material', 'unrelease c pdf', 'pdf mrb dc', 'material', 'create class suffix', 'xkb', 'bom report teamcenter', 'fw product configurator approved ocn c e engine specification x v cw gap engine engine config percent ocn perform checker review', 'missing part family member', 'removing user group failed', 'failing delete datasets', 'er improvement suggestion', 'generate pdf mrb dc', 'er v feil ved oppretting av ny artikkel save', 'bom report', 'create standard screw', 'unrelease', 'bom report', 'adding user ecn approver list approver mail receiver', 'change f drawing', 'sv release av ecn', 'cxss child cxss', 'error downloading model supplier', 'need w item', 'delete item revision please', 'problem med pne tc', 'delete revision g e', 'delete item revision', 'please send part', 'small issue latest tc update', 'activate c plant', 'create cad part c', 'create cad part c', 'error tc spec', 'wrong color item type dw', 'create cad part c', 'plant specification c', 'er v teamcenter turn tap project', 'c xsc', 'drawing team center', 'add forgotten dataset', 'issue updating sluxxx', 'g dwg update', 'error pnas report used', 'er tc issue', 'item deleted tc', 'plant specification c', 'acc revision sequence item check release message dc', 'problem releasing f', 'please help unrelease', 'release item cxss', 'create cad part c', 'check release error', 'er tc issue', 'change revision name', 'release item', 'adding user liste ecn approver', 'replace drawing', 'er inquiry procedure tc', 'aborting ocn release', 'wrong item number tc', 'problem releasing item', 'error approving dc', 'revise failed', 'revision code wrong template', 'release', 'suffix', 'delete unreleased revision', 'w suffix item c', 'unrelease c revision', 'release', 'wrong classification', 'help make cxss nb simelar b nb', 'er v teamcenter turn tap project', 'unrelease g', 'unrelease', 'change class', 'change pdf item c', 'change size field xkb', 'task classification clean ups', 'mrb index', 'requirement technical spec material', 'item name updated class', 'er pnas check release note pad', 'ref mrd', 'c change mm pc', 'pnas status empty', 'deleting revision', 'c', 'warning approved dc', 'v approved bom release sap dc comissioning spare ecn release perform signoffs', 'service maual', 'cylinder liner certificate', 'mean', 'v bom c', 'regarding dr', 'revise item', 'change item state', 'v fors k p release av dc', 'error logon', 'editing sap description', 'add f drawing item', 'v dekkplater', 'v pnas seedpart', 'item released sap', 'c', 'sap', 'add step file teamcenter', 'deleting revision', 'wrong number tc', 'change classification size', 'change size manufacturer item id tc', 'help understand erro', 'rename name size field', 'classification property', 'error approving dc v approved bom release sap dc expansion tank ecn release perform signoffs', 'art nr c', 'er dim unit capture dry run', 'help make cxss', 'ang dc', 'help make cxss', 'warning whe approving dc', 'missing e mail approved dc', 'tc problem', 'er small typo check release', 'renaming sending sap', 'help rename size', 'issue removing st datasets revised item', 'make cxss b nb', 'help revision', 'unrelease revision engine specification', 'wrong cad model c pipe', 'wrong cad model c pipe', 'er enhancement request pnas check release plant filled irmf', 'mrb missing page pdf dc', 'requirement technical specification c f', 'help make cxss', 'revert rejection ocn', 'error message trying release dc', 'please update name size part', 'item', 'write access w', 'updating name size field old item', 'make cxss', 'fw woodward c act hydr ug og c cable gland ug cable gland', 'write access needed', 'release c', 'delete revision', 'w cable tray v piece', 'change class', 'able make bom report', 'fw please update name size part', 'save item c', 'wrong referance drawing xsc', 'release error xsc', 'tc request automatically create drawing collection given article', 'fw feilmelding tc', 'requriement technical specificaitons c c', 'error approving dc', 'fw utg tt artikkel', 'unrelease b mounting overspeed stop valve', 'xsc c wrong size tc', 'classification faild update size name', 'problelms releasing', 'unrelease', 'v ang dc', 'release item', 'fw bop glacier status pr', 'updating mrb', 'new classification', 'c', 'remove change name size released bauhiresh', 'need replace gr nn melding', 'unrelease art', 'change classification c xsc c xsc', 'release bauhiresh cxss filter lub oil automatic lo dn bs arrangement', 'item status invalid', 'procedure handling mrb', 'classification search', 'rename classification name', 'new std part', 'error item uom', 'delete xkb starter cabinet bs customer specific ship loose', 'classification search', 'sluxxx sap', 'sv error item uom', 'v oppdatere artikkelinfo tc xsc c f', 'obsolete', 'help make cxss', 'error message approving dc', 'please create new cxsss', 'artikkelnummer b mutrar nord lock', 'request creating cxss', 'material c', 'material number dc', 'fw emailing dc front shaft bearing sent bop pdf', 'deleting revision', 'teamcenter malfunction', 'change classification property', 'request creating cxss', 'v unreleased revision tc siden', 'c without bom sap', 'please delete c rev', 'please delete following drawing', 'v f tegninger synlige sap', 'unreleased revision item cxss possible delete revision', 'please delete c', 'error sending sluxxx x v', 'mrb index', 'material c', 'change description part list', 'change description part list', 'change description part list', 'change description part list', 'resend c w sap', 'error approving dc', 'rename w', 'fw bd cable classification created', 'revise problem tc', 'wrong part item urgently need fixed release plant spec', 'tc sap sap status code', 'renaming revision', 'remove material deskription', 'unrelease itemrevision c', 'fw c change status obsolete', 'wrong raw material bom', 'release item', 'release item', 'error component c', 'change name size field', 'fw bolt fitted fit', 'release', 'fw uheldig cloning av pnas engine delivery project folder', 'frontpage mrb updating', 'error approving dc', 'g', 'revise fail', 'wrong part', 'tc problem fw mangler f', 'er ocn workflow name mail subject', 'fw tc artikler extract', 'release item', 'tc article update add information', 'er change classification mrb', 'unrelease g', 'unrelease', 'delete rev b', 'set item obsolete', 'urgent revise fail', 'help make cxss', 'error approving dc', 'change name c xsc', 'unrelease item', 'material', 'drawing f added c', 'tc bom report wrong output', 'wrong name migrated article number', 'oppdatert f tegning', 'geometry item', 'help change unit measure c', 'wrong version og bom report plant spec c', 'access item', 'missing hex head bolt length', 'technical specification material c', 'missing hex head bolt length', 'missing hex head bolt length', 'missing hex head bolt length', 'command revise used cxss lot information belonging item lost', 'delete revision', 'able make bom report', 'dc', 'delete part number', 'revision', 'material c', 'cloned folder missing content', 'revision', 'revision td b bauhiresh', 'b delete revision b', 'wrong size item', 'make obsolete c', 'fw feil tekst sap', 'art obsolete', 'added dataset create model error downstream', 'release item plant', 'change text revision card', 'f', 'corr dc', 'fw bd cable classification created', 'fw klassifisering av jordings bos tc', 'material', 'material no c', 'fw need class socity option class pipe gas sub', 'c rfq', 'teamcenter rectification article data teamcenter needed', 'dc', 'bom missing sap c w', 'change size', 'drawing c', 'issue linked body', 'drawing c', 'g', 'error possible project model drafting', 'nx dismatch model model sketch drafting main view', 'warning message approving dc', 'fw c matek samson', 'gr nn endringsmelding el equipment splash oil ring x x l x v returdelforbedring', 'deleting rev cxss b', 'material c', 'release item sap', 'fw c', 'make obsolete c', 'teamcenter shut', 'revise failure', 'please delete cxss', 'bom status change', 'able log teamcenter', 'delete item c', 'uploading step fil c', 'material c', 'wrong number', 'removal process symbol dr', 'classification property', 'xsc revise transfer owner ship', 'edit item state', 'error message approving dc', 'reclassify xsc', 'callout number shown correctly structure manager', 'edit item state', 'delete revision g', 'obsolete item', 'warning message approving dc', 'cad send erp', 'fw fw fw material', 'delete workflow c q', 'release item', 'wrong class tc', 'mapping av disker nobrglt', 'changing item state set pc', 'release item legacy', 'release item', 'urgent', 'ecn approval sit', 'fw pnas xkb bom report xlsx', 'parameter error c', 'fw min sit bc', 'fw btw ingen suksess med trykke complete', 'release item', 'unrelease', 'change erp yes', 'release item', 'release cxss', 'legacy', 'create cxss save', 'error message approving dc', 'material c', 'material c', 'delete item revision', 'installation teamcenter', 'tc login failed', 'user unable use tc', 'error message', 'make obslolete c', 'release item', 'save item give wrong plf dataset name incorrect', 'releas issue', 'item c c', 'material item missing sap', 'renaming w issue', 'geometry standard fastener', 'fw teamcenter issue', 'revision change', 'obsolete item', 'renaming std part', 'material c', 'material number c c', 'help unrelease drawing', 'renaming w issue', 'fw hvilken release er n riktig bruke xkb er', 'please review plant spec eng spec bom dc engine bom', 'release item', 'replacement model data', 'tc error bom list excel working', 'legacy item plant', 'acc issued testing om dc', 'release item', 'pnas c bom report xlsx', 'able make bom report', 'fw pnas menu missing', 'xsc', 'remove manufacturer id c c xsc', 'c change history', 'legacy material release sap', 'change size name', 'change size name', 'business object could revised working revision limit', 'error approving dc', 'description field nx teamcenter', 'delete revision e c', 'ocn v mailing list', 'unreleasing b item due revision specification tc', 'unrelease td', 'issue tc regarding slm team releasing active item work', 'fw correcting attribute', 'make obsolete cxss xsc', 'release material', 'release material', 'access folder', 'legacy material', 'wago avklaring utfasing av wago art oppdatering', 'release material', 'c need drawing spec', 'create class society item', 'make bauhiresh', 'item obsolete', 'change og revision', 'issue drafting', 'teamcenter teamcenter', 'legacy item release', 'creation model standar part', 'revision transfer ownership', 'standar nut', 'v dc gr nn melding tegnings spes endring syl deksel x endring maskinering og plugging av vannrom ref pcb henf', 'add drawing f', 'release item', 'revision transfer ownership', 'release item', 'delete rev', 'tc bom error', 'unrelease c', 'used report access denied', 'unrelease f', '', 'change size filed item', 'change w', 'used report access denied', '', 'l need drawing spec', 'update item', 'teamcenter gateway license available', 'add item sluxxx', 'delete version gasket', 'item c renamed cxssc', 'error message tc', 'hr long lead item doc', 'release til sap', 'allowed paste solution item folder', '', 'send erp', 'engine sign plate arr', 'missing bom sap', 'engine signplate arr', 'engine signplate arr', 'eng signplate arr', 'eng signplate arr', 'model', 'new process dialog able release change xkd', 'c', 'wrong name size bauhiresh', 'roblem occured', 'please make cxss class society item c', 'wrong size description art c c', 'urgent please release', 'ownership bom c', 'release av change order dc urgent', 'engine type classification', 'password', 'drawing item revision entry point found', 'password', 'internal error', 'xsc', 'problem med release av nye bauhiresher fra anleggspes', 'releas change order new error', 'variant condition pre sluxxx c delete native option', 'xsc cxss changed miguser released', 'rreb eng l fitjar xkd rev called back', 'cxss', 'contact system', 'r nn melding tegningsrevisjon pipe suction lubr oil sump mach x v', 'flag workflow process symbol', 'compare spec tc', 'issue exercise renumbering w item w replaced adding w non suffixed item', 'dc', 'new material request', 'cxss', 'sap spes', 'checking item name length', 'bom rejected please rework dc x x v machined air bend c c c perform signoffs', 'export bom excell', 'new classification inpunt', 'release', 'motorer som feilklassifiserte', 'wrong imported model supplier', 'server error', 'dc', 'release material', 'ecm bacelona', 'dc', 'w without w sap', 'piston pin mapromec', 'additional task obsolete item', 'problem temp released item', 'release', 'warning approve dc', 'problem releasing dc xsc', 'wrong clasification bolt', 'standard component teamcenter', 'high', 'manglende produktinformasjon sap', 'missing cad geometry', 'problem send erp', 'transfer user system development engineering application', 'dc', 'x v sluxxx', 'export part', 'kopi til fsteien p workflow av nye gr nne meldinger', 'feil stykkliste til art', 'problem tc', 'ownership issue', 'luwuk c w', 'wrong item', 'new screw library', 'approval without dba', 'dc', 'level bom report work', 'high', 'dc', 'revision releasing bom without owning revision', 'skrivefeil l blokk st r l', 'release av isolasjonspanel til x v', 'new standard component', 'pnas bom report', 'teamcenter teamcenter', 'testing sluxxx workflow', 'server fallout', 'configration problem teamcenter', 'help mismatch tc sap bom', 'error recovery', 'update class society item', 'faild load part', 'bom raport', 'create cxss c', 'change ocn workflow', 'change ocn workflow', 'obsolete status item', 'dc dc', 'tc slow crash', 'ketil vevle also added list approver preliminary workflow', 'nx nx setup plmnordic prod drafting c pipe wat', 'rename test item junk test item', 'tc loading', 'teamcenter issue slow responsive connection srq', 'new cad model standard item', 'please release bauhiresh sap', '', 'modify item preliminary workflow allow item bom', 'problem saving nx', 'material description multi', 'viewer tab refresh issue', 'enhancment neded item preliminary release', 'teamcenter file recognition excel fil', 'pipe fitting wrong measure', 'pipe fitting wrong measure', 'sende w til sap', 'referance set problem', 'dc', 'problem updating verkstedsett', 'renaming istead new part', 'still problem teamcenter update', 'access folder tc report', 'dc error', 'dc error', 'dc error', 'type error saving bom tc', 'urgent cad file standard part', 'search legacy item give noe result']\n"
     ]
    }
   ],
   "source": [
    "print(corpus)"
   ]
  },
  {
   "cell_type": "code",
   "execution_count": 12,
   "metadata": {},
   "outputs": [],
   "source": [
    "from sklearn.feature_extraction.text import CountVectorizer\n",
    "import re\n",
    "#print(stop_words)\n",
    "cv=CountVectorizer(max_df=0.8,stop_words=stop_words, max_features=10000, ngram_range=(1,3))\n",
    "X=cv.fit_transform(corpus)\n",
    "m=list(cv.vocabulary_.keys())[:10]"
   ]
  },
  {
   "cell_type": "code",
   "execution_count": 13,
   "metadata": {},
   "outputs": [
    {
     "name": "stdout",
     "output_type": "stream",
     "text": [
      "                           Keyword  Frequency\n",
      "0         approved bom release sap         21\n",
      "1               bom release sap dc         21\n",
      "2     ecn release perform signoffs         17\n",
      "3              generate pdf mrb dc         16\n",
      "4              new item need model         13\n",
      "5       error message approving dc         11\n",
      "6            nx nx setup plmnordic         10\n",
      "7          nx setup plmnordic prod         10\n",
      "8    setup plmnordic prod modeling          6\n",
      "9           item need model change          5\n",
      "10      need model change material          5\n",
      "11  approving approved bom release          5\n",
      "12     dc release approval problem          4\n",
      "13          hhi msc revision plant          4\n",
      "14         msc revision plant spec          4\n",
      "15               order eng ag ksrm          4\n",
      "16               eng ag ksrm power          4\n",
      "17             ag ksrm power plant          4\n",
      "18            ksrm power plant ltd          4\n",
      "19    error approving approved bom          4\n"
     ]
    },
    {
     "data": {
      "text/plain": [
       "[Text(0, 0, 'approved bom release sap'),\n",
       " Text(0, 0, 'bom release sap dc'),\n",
       " Text(0, 0, 'ecn release perform signoffs'),\n",
       " Text(0, 0, 'generate pdf mrb dc'),\n",
       " Text(0, 0, 'new item need model'),\n",
       " Text(0, 0, 'error message approving dc'),\n",
       " Text(0, 0, 'nx nx setup plmnordic'),\n",
       " Text(0, 0, 'nx setup plmnordic prod'),\n",
       " Text(0, 0, 'setup plmnordic prod modeling'),\n",
       " Text(0, 0, 'item need model change'),\n",
       " Text(0, 0, 'need model change material'),\n",
       " Text(0, 0, 'approving approved bom release'),\n",
       " Text(0, 0, 'dc release approval problem'),\n",
       " Text(0, 0, 'hhi msc revision plant'),\n",
       " Text(0, 0, 'msc revision plant spec'),\n",
       " Text(0, 0, 'order eng ag ksrm'),\n",
       " Text(0, 0, 'eng ag ksrm power'),\n",
       " Text(0, 0, 'ag ksrm power plant'),\n",
       " Text(0, 0, 'ksrm power plant ltd'),\n",
       " Text(0, 0, 'error approving approved bom')]"
      ]
     },
     "execution_count": 13,
     "metadata": {},
     "output_type": "execute_result"
    },
    {
     "data": {
      "image/png": "[encoded data removed]",
      "text/plain": [
       "<Figure size 936x576 with 1 Axes>"
      ]
     },
     "metadata": {},
     "output_type": "display_data"
    }
   ],
   "source": [
    "import pandas\n",
    "fwords=[\"please\",'to',\"hi\",\"hello\",\"on\"]\n",
    "def get_top_n_words(corpus, n=None):\n",
    "    vec = CountVectorizer(ngram_range=(4,4),  \n",
    "            max_features=2000).fit(corpus)\n",
    "    bag_of_words = vec.transform(corpus)\n",
    "    sum_words = bag_of_words.sum(axis=0) \n",
    "    words_freq = [(word, sum_words[0, idx]) for word, idx in      \n",
    "                   vec.vocabulary_.items()]\n",
    "    words_freq =sorted(words_freq, key = lambda x: x[1], \n",
    "                       reverse=True)\n",
    "    words_freq=[i for i in words_freq if i not in fwords ]\n",
    "    return words_freq[:n]\n",
    "\n",
    "\n",
    "# Convert most freq words to dataframe for plotting bar plot, save as CSV\n",
    "top_words = get_top_n_words(corpus, n=20)\n",
    "top_df = pandas.DataFrame(top_words)\n",
    "top_df.columns=[\"Keyword\", \"Frequency\"]\n",
    "print(top_df)\n",
    "#top_df.to_csv(file_prefix + '_top_words.csv')\n",
    "\n",
    "# Barplot of most freq words\n",
    "import seaborn as sns\n",
    "sns.set(rc={'figure.figsize':(13,8)})\n",
    "g = sns.barplot(x=\"Keyword\", y=\"Frequency\", data=top_df, palette=\"Blues_d\")\n",
    "g.set_xticklabels(g.get_xticklabels(), rotation=45)\n",
    "#g.figure.savefig(file_prefix + \"_keyword.png\", bbox_inches = \"tight\")"
   ]
  },
  {
   "cell_type": "code",
   "execution_count": 14,
   "metadata": {},
   "outputs": [
    {
     "data": {
      "text/html": [
       "<div>\n",
       "<style scoped>\n",
       "    .dataframe tbody tr th:only-of-type {\n",
       "        vertical-align: middle;\n",
       "    }\n",
       "\n",
       "    .dataframe tbody tr th {\n",
       "        vertical-align: top;\n",
       "    }\n",
       "\n",
       "    .dataframe thead th {\n",
       "        text-align: right;\n",
       "    }\n",
       "</style>\n",
       "<table border=\"1\" class=\"dataframe\">\n",
       "  <thead>\n",
       "    <tr style=\"text-align: right;\">\n",
       "      <th></th>\n",
       "      <th>Issue ID</th>\n",
       "      <th>Title</th>\n",
       "      <th>Description</th>\n",
       "      <th>Issue Status</th>\n",
       "      <th>Resolution</th>\n",
       "      <th>word_count</th>\n",
       "    </tr>\n",
       "  </thead>\n",
       "  <tbody>\n",
       "    <tr>\n",
       "      <th>0</th>\n",
       "      <td>2142</td>\n",
       "      <td>ER-Classification quality improvement</td>\n",
       "      <td>Hi,\\nfind attached one example of possible cle...</td>\n",
       "      <td>Active</td>\n",
       "      <td>​Moved to DATA Streaming</td>\n",
       "      <td>3</td>\n",
       "    </tr>\n",
       "    <tr>\n",
       "      <th>1</th>\n",
       "      <td>2182</td>\n",
       "      <td>ER-STEP Type Dataset</td>\n",
       "      <td>Hi\\nIs it possible to add a „new“ dataset type...</td>\n",
       "      <td>Active</td>\n",
       "      <td>NaN</td>\n",
       "      <td>3</td>\n",
       "    </tr>\n",
       "    <tr>\n",
       "      <th>2</th>\n",
       "      <td>2229</td>\n",
       "      <td>ER-BOM REPORT ISSUES</td>\n",
       "      <td>Hi Omar,\\nI just discussed this with hiresh. B...</td>\n",
       "      <td>Active</td>\n",
       "      <td>NaN</td>\n",
       "      <td>3</td>\n",
       "    </tr>\n",
       "    <tr>\n",
       "      <th>3</th>\n",
       "      <td>2497</td>\n",
       "      <td>ER-VS: Vekt fra TC til SAP</td>\n",
       "      <td>Hi,\\nFind attached list of wheigths. How can w...</td>\n",
       "      <td>Active</td>\n",
       "      <td>NaN</td>\n",
       "      <td>6</td>\n",
       "    </tr>\n",
       "    <tr>\n",
       "      <th>4</th>\n",
       "      <td>2508</td>\n",
       "      <td>ER-VS: Vekt fra TC til SAP</td>\n",
       "      <td>Data Stream</td>\n",
       "      <td>Active</td>\n",
       "      <td>NaN</td>\n",
       "      <td>6</td>\n",
       "    </tr>\n",
       "    <tr>\n",
       "      <th>...</th>\n",
       "      <td>...</td>\n",
       "      <td>...</td>\n",
       "      <td>...</td>\n",
       "      <td>...</td>\n",
       "      <td>...</td>\n",
       "      <td>...</td>\n",
       "    </tr>\n",
       "    <tr>\n",
       "      <th>2893</th>\n",
       "      <td>1326</td>\n",
       "      <td>DC0201996 error</td>\n",
       "      <td>Error during approval. Please check and comple...</td>\n",
       "      <td>Resolved</td>\n",
       "      <td>​1</td>\n",
       "      <td>2</td>\n",
       "    </tr>\n",
       "    <tr>\n",
       "      <th>2894</th>\n",
       "      <td>1334</td>\n",
       "      <td>DC0202059 error</td>\n",
       "      <td>One more similar error. Please check and compl...</td>\n",
       "      <td>Resolved</td>\n",
       "      <td>​1</td>\n",
       "      <td>2</td>\n",
       "    </tr>\n",
       "    <tr>\n",
       "      <th>2895</th>\n",
       "      <td>1344</td>\n",
       "      <td>Type of error when saving BOM in tc</td>\n",
       "      <td>When saving BOM in TC, I get this message:\\nDo...</td>\n",
       "      <td>Resolved</td>\n",
       "      <td>​1</td>\n",
       "      <td>8</td>\n",
       "    </tr>\n",
       "    <tr>\n",
       "      <th>2896</th>\n",
       "      <td>1346</td>\n",
       "      <td>URGENT!! CAD files of standard parts</td>\n",
       "      <td>Can you please create CAD parts off the follow...</td>\n",
       "      <td>Resolved</td>\n",
       "      <td>1</td>\n",
       "      <td>6</td>\n",
       "    </tr>\n",
       "    <tr>\n",
       "      <th>2897</th>\n",
       "      <td>1795</td>\n",
       "      <td>Search on Legacy Items gives noe results</td>\n",
       "      <td>When searching for legacy item revisions I do ...</td>\n",
       "      <td>Resolved</td>\n",
       "      <td>NaN</td>\n",
       "      <td>7</td>\n",
       "    </tr>\n",
       "  </tbody>\n",
       "</table>\n",
       "<p>2898 rows × 6 columns</p>\n",
       "</div>"
      ],
      "text/plain": [
       "      Issue ID                                     Title  \\\n",
       "0         2142     ER-Classification quality improvement   \n",
       "1         2182                      ER-STEP Type Dataset   \n",
       "2         2229                      ER-BOM REPORT ISSUES   \n",
       "3         2497                ER-VS: Vekt fra TC til SAP   \n",
       "4         2508                ER-VS: Vekt fra TC til SAP   \n",
       "...        ...                                       ...   \n",
       "2893      1326                           DC0201996 error   \n",
       "2894      1334                           DC0202059 error   \n",
       "2895      1344       Type of error when saving BOM in tc   \n",
       "2896      1346      URGENT!! CAD files of standard parts   \n",
       "2897      1795  Search on Legacy Items gives noe results   \n",
       "\n",
       "                                            Description Issue Status  \\\n",
       "0     Hi,\\nfind attached one example of possible cle...       Active   \n",
       "1     Hi\\nIs it possible to add a „new“ dataset type...       Active   \n",
       "2     Hi Omar,\\nI just discussed this with hiresh. B...       Active   \n",
       "3     Hi,\\nFind attached list of wheigths. How can w...       Active   \n",
       "4                                           Data Stream       Active   \n",
       "...                                                 ...          ...   \n",
       "2893  Error during approval. Please check and comple...     Resolved   \n",
       "2894  One more similar error. Please check and compl...     Resolved   \n",
       "2895  When saving BOM in TC, I get this message:\\nDo...     Resolved   \n",
       "2896  Can you please create CAD parts off the follow...     Resolved   \n",
       "2897  When searching for legacy item revisions I do ...     Resolved   \n",
       "\n",
       "                    Resolution  word_count  \n",
       "0     ​Moved to DATA Streaming           3  \n",
       "1                          NaN           3  \n",
       "2                          NaN           3  \n",
       "3                          NaN           6  \n",
       "4                          NaN           6  \n",
       "...                        ...         ...  \n",
       "2893                        ​1           2  \n",
       "2894                        ​1           2  \n",
       "2895                        ​1           8  \n",
       "2896                         1           6  \n",
       "2897                       NaN           7  \n",
       "\n",
       "[2898 rows x 6 columns]"
      ]
     },
     "execution_count": 14,
     "metadata": {},
     "output_type": "execute_result"
    }
   ],
   "source": [
    "dataset"
   ]
  },
  {
   "cell_type": "code",
   "execution_count": 15,
   "metadata": {},
   "outputs": [],
   "source": [
    "dataset[datacol].dropna(inplace=True)\n",
    "# Step - b : Change all the text to lower case. This is required as python interprets 'dog' and 'DOG' differently\n",
    "from nltk.tokenize import word_tokenize\n",
    "\n",
    "\n",
    "dataset[datacol] = [entry.lower() for entry in dataset[datacol]]\n",
    "# Step - c : Tokenization : In this each entry in the corpus will be broken into set of words\n",
    "dataset[datacol]= [word_tokenize(entry) for entry in dataset[datacol]]\n",
    "# Step - d : Remove Stop words, Non-Numeric and perfom Word Stemming/Lemmenting.\n",
    "# WordNetLemmatizer requires Pos tags to understand if the word is noun or verb or adjective etc. By default it is set to Noun\n"
   ]
  },
  {
   "cell_type": "code",
   "execution_count": 16,
   "metadata": {},
   "outputs": [],
   "source": [
    "from nltk.corpus import wordnet as wn\n",
    "from collections import defaultdict\n",
    "tag_map = defaultdict(lambda : wn.NOUN)\n",
    "tag_map['J'] = wn.ADJ\n",
    "tag_map['V'] = wn.VERB\n",
    "tag_map['R'] = wn.ADV"
   ]
  },
  {
   "cell_type": "code",
   "execution_count": 17,
   "metadata": {},
   "outputs": [],
   "source": [
    "from nltk import pos_tag\n",
    "for index,entry in enumerate(dataset[datacol]):\n",
    "    # Declaring Empty List to store the words that follow the rules for this step\n",
    "    Final_words = []\n",
    "    # Initializing WordNetLemmatizer()\n",
    "    word_Lemmatized = WordNetLemmatizer()\n",
    "    # pos_tag function below will provide the 'tag' i.e if the word is Noun(N) or Verb(V) or something else.\n",
    "    for word, tag in pos_tag(entry):\n",
    "        # Below condition is to check for Stop words and consider only alphabets\n",
    "        if word not in stopwords.words('english') and word.isalpha():\n",
    "            word_Final = word_Lemmatized.lemmatize(word,tag_map[tag[0]])\n",
    "            Final_words.append(word_Final)\n",
    "    # The final processed set of words for each iteration will be stored in 'text_final'\n",
    "    dataset.loc[index,'text_final'] = str(Final_words)"
   ]
  },
  {
   "cell_type": "code",
   "execution_count": 18,
   "metadata": {},
   "outputs": [],
   "source": [
    "for index,entry in enumerate(dataset[datacol]):\n",
    "    # Declaring Empty List to store the words that follow the rules for this step\n",
    "    Final_words = []\n",
    "    # Initializing WordNetLemmatizer()\n",
    "    word_Lemmatized = WordNetLemmatizer()\n",
    "    # pos_tag function below will provide the 'tag' i.e if the word is Noun(N) or Verb(V) or something else.\n",
    "    for word, tag in pos_tag(entry):\n",
    "        # Below condition is to check for Stop words and consider only alphabets\n",
    "        if word not in stopwords.words('english') and word.isalpha():\n",
    "            word_Final = word_Lemmatized.lemmatize(word,tag_map[tag[0]])\n",
    "            Final_words.append(word_Final)\n",
    "    if \"sap\" in Final_words:\n",
    "        dataset.loc[index,'desc'] = str(\"sap\")\n",
    "    elif \"erp\" in Final_words:\n",
    "        dataset.loc[index,'desc'] = str(\"erp\")\n",
    "    elif \"bom\" in Final_words:\n",
    "        dataset.loc[index,'desc'] = str(\"bom\")\n",
    "    elif \"teamcenter\" in Final_words:\n",
    "        dataset.loc[index,'desc'] = str(\"teamcent\")\n",
    "    elif \"design\" in Final_words:\n",
    "        dataset.loc[index,'desc'] = str(\"design\")\n",
    "    elif \"document\" in Final_words:\n",
    "        dataset.loc[index,'desc'] = str(\"document\")\n",
    "    elif \"item\" in Final_words:\n",
    "        dataset.loc[index,'desc'] = str(\"item\")\n",
    "    elif \"material\" in Final_words:\n",
    "        dataset.loc[index,'desc'] = str(\"materi\")\n",
    "    elif \"error\" in Final_words:\n",
    "        dataset.loc[index,'desc'] = str(\"error\")\n",
    "    elif \"ticket\" in Final_words:\n",
    "        dataset.loc[index,'desc'] = str(\"ticket\")\n",
    "    else:\n",
    "        dataset.loc[index,'desc'] = str(\"Others\")\n",
    "        \n",
    "        \n",
    "    # The final processed set of words for each iteration will be stored in 'text_final'\n",
    "\n",
    "    "
   ]
  },
  {
   "cell_type": "code",
   "execution_count": 19,
   "metadata": {},
   "outputs": [
    {
     "data": {
      "text/html": [
       "<div>\n",
       "<style scoped>\n",
       "    .dataframe tbody tr th:only-of-type {\n",
       "        vertical-align: middle;\n",
       "    }\n",
       "\n",
       "    .dataframe tbody tr th {\n",
       "        vertical-align: top;\n",
       "    }\n",
       "\n",
       "    .dataframe thead th {\n",
       "        text-align: right;\n",
       "    }\n",
       "</style>\n",
       "<table border=\"1\" class=\"dataframe\">\n",
       "  <thead>\n",
       "    <tr style=\"text-align: right;\">\n",
       "      <th></th>\n",
       "      <th>Issue ID</th>\n",
       "      <th>Title</th>\n",
       "      <th>Description</th>\n",
       "      <th>Issue Status</th>\n",
       "      <th>Resolution</th>\n",
       "      <th>word_count</th>\n",
       "      <th>text_final</th>\n",
       "      <th>desc</th>\n",
       "    </tr>\n",
       "  </thead>\n",
       "  <tbody>\n",
       "    <tr>\n",
       "      <th>0</th>\n",
       "      <td>2142</td>\n",
       "      <td>[er-classification, quality, improvement]</td>\n",
       "      <td>Hi,\\nfind attached one example of possible cle...</td>\n",
       "      <td>Active</td>\n",
       "      <td>​Moved to DATA Streaming</td>\n",
       "      <td>3</td>\n",
       "      <td>['quality', 'improvement']</td>\n",
       "      <td>Others</td>\n",
       "    </tr>\n",
       "    <tr>\n",
       "      <th>1</th>\n",
       "      <td>2182</td>\n",
       "      <td>[er-step, type, dataset]</td>\n",
       "      <td>Hi\\nIs it possible to add a „new“ dataset type...</td>\n",
       "      <td>Active</td>\n",
       "      <td>NaN</td>\n",
       "      <td>3</td>\n",
       "      <td>['type', 'dataset']</td>\n",
       "      <td>Others</td>\n",
       "    </tr>\n",
       "    <tr>\n",
       "      <th>2</th>\n",
       "      <td>2229</td>\n",
       "      <td>[er-bom, report, issues]</td>\n",
       "      <td>Hi Omar,\\nI just discussed this with hiresh. B...</td>\n",
       "      <td>Active</td>\n",
       "      <td>NaN</td>\n",
       "      <td>3</td>\n",
       "      <td>['report', 'issue']</td>\n",
       "      <td>Others</td>\n",
       "    </tr>\n",
       "    <tr>\n",
       "      <th>3</th>\n",
       "      <td>2497</td>\n",
       "      <td>[er-vs, :, vekt, fra, tc, til, sap]</td>\n",
       "      <td>Hi,\\nFind attached list of wheigths. How can w...</td>\n",
       "      <td>Active</td>\n",
       "      <td>NaN</td>\n",
       "      <td>6</td>\n",
       "      <td>['vekt', 'fra', 'tc', 'til', 'sap']</td>\n",
       "      <td>sap</td>\n",
       "    </tr>\n",
       "    <tr>\n",
       "      <th>4</th>\n",
       "      <td>2508</td>\n",
       "      <td>[er-vs, :, vekt, fra, tc, til, sap]</td>\n",
       "      <td>Data Stream</td>\n",
       "      <td>Active</td>\n",
       "      <td>NaN</td>\n",
       "      <td>6</td>\n",
       "      <td>['vekt', 'fra', 'tc', 'til', 'sap']</td>\n",
       "      <td>sap</td>\n",
       "    </tr>\n",
       "    <tr>\n",
       "      <th>...</th>\n",
       "      <td>...</td>\n",
       "      <td>...</td>\n",
       "      <td>...</td>\n",
       "      <td>...</td>\n",
       "      <td>...</td>\n",
       "      <td>...</td>\n",
       "      <td>...</td>\n",
       "      <td>...</td>\n",
       "    </tr>\n",
       "    <tr>\n",
       "      <th>2893</th>\n",
       "      <td>1326</td>\n",
       "      <td>[dc0201996, error]</td>\n",
       "      <td>Error during approval. Please check and comple...</td>\n",
       "      <td>Resolved</td>\n",
       "      <td>​1</td>\n",
       "      <td>2</td>\n",
       "      <td>['error']</td>\n",
       "      <td>error</td>\n",
       "    </tr>\n",
       "    <tr>\n",
       "      <th>2894</th>\n",
       "      <td>1334</td>\n",
       "      <td>[dc0202059, error]</td>\n",
       "      <td>One more similar error. Please check and compl...</td>\n",
       "      <td>Resolved</td>\n",
       "      <td>​1</td>\n",
       "      <td>2</td>\n",
       "      <td>['error']</td>\n",
       "      <td>error</td>\n",
       "    </tr>\n",
       "    <tr>\n",
       "      <th>2895</th>\n",
       "      <td>1344</td>\n",
       "      <td>[type, of, error, when, saving, bom, in, tc]</td>\n",
       "      <td>When saving BOM in TC, I get this message:\\nDo...</td>\n",
       "      <td>Resolved</td>\n",
       "      <td>​1</td>\n",
       "      <td>8</td>\n",
       "      <td>['type', 'error', 'save', 'bom', 'tc']</td>\n",
       "      <td>bom</td>\n",
       "    </tr>\n",
       "    <tr>\n",
       "      <th>2896</th>\n",
       "      <td>1346</td>\n",
       "      <td>[urgent, !, !, cad, files, of, standard, parts]</td>\n",
       "      <td>Can you please create CAD parts off the follow...</td>\n",
       "      <td>Resolved</td>\n",
       "      <td>1</td>\n",
       "      <td>6</td>\n",
       "      <td>['urgent', 'cad', 'file', 'standard', 'part']</td>\n",
       "      <td>Others</td>\n",
       "    </tr>\n",
       "    <tr>\n",
       "      <th>2897</th>\n",
       "      <td>1795</td>\n",
       "      <td>[search, on, legacy, items, gives, noe, results]</td>\n",
       "      <td>When searching for legacy item revisions I do ...</td>\n",
       "      <td>Resolved</td>\n",
       "      <td>NaN</td>\n",
       "      <td>7</td>\n",
       "      <td>['search', 'legacy', 'item', 'give', 'noe', 'r...</td>\n",
       "      <td>item</td>\n",
       "    </tr>\n",
       "  </tbody>\n",
       "</table>\n",
       "<p>2898 rows × 8 columns</p>\n",
       "</div>"
      ],
      "text/plain": [
       "      Issue ID                                             Title  \\\n",
       "0         2142         [er-classification, quality, improvement]   \n",
       "1         2182                          [er-step, type, dataset]   \n",
       "2         2229                          [er-bom, report, issues]   \n",
       "3         2497               [er-vs, :, vekt, fra, tc, til, sap]   \n",
       "4         2508               [er-vs, :, vekt, fra, tc, til, sap]   \n",
       "...        ...                                               ...   \n",
       "2893      1326                                [dc0201996, error]   \n",
       "2894      1334                                [dc0202059, error]   \n",
       "2895      1344      [type, of, error, when, saving, bom, in, tc]   \n",
       "2896      1346   [urgent, !, !, cad, files, of, standard, parts]   \n",
       "2897      1795  [search, on, legacy, items, gives, noe, results]   \n",
       "\n",
       "                                            Description Issue Status  \\\n",
       "0     Hi,\\nfind attached one example of possible cle...       Active   \n",
       "1     Hi\\nIs it possible to add a „new“ dataset type...       Active   \n",
       "2     Hi Omar,\\nI just discussed this with hiresh. B...       Active   \n",
       "3     Hi,\\nFind attached list of wheigths. How can w...       Active   \n",
       "4                                           Data Stream       Active   \n",
       "...                                                 ...          ...   \n",
       "2893  Error during approval. Please check and comple...     Resolved   \n",
       "2894  One more similar error. Please check and compl...     Resolved   \n",
       "2895  When saving BOM in TC, I get this message:\\nDo...     Resolved   \n",
       "2896  Can you please create CAD parts off the follow...     Resolved   \n",
       "2897  When searching for legacy item revisions I do ...     Resolved   \n",
       "\n",
       "                    Resolution  word_count  \\\n",
       "0     ​Moved to DATA Streaming           3   \n",
       "1                          NaN           3   \n",
       "2                          NaN           3   \n",
       "3                          NaN           6   \n",
       "4                          NaN           6   \n",
       "...                        ...         ...   \n",
       "2893                        ​1           2   \n",
       "2894                        ​1           2   \n",
       "2895                        ​1           8   \n",
       "2896                         1           6   \n",
       "2897                       NaN           7   \n",
       "\n",
       "                                             text_final    desc  \n",
       "0                            ['quality', 'improvement']  Others  \n",
       "1                                   ['type', 'dataset']  Others  \n",
       "2                                   ['report', 'issue']  Others  \n",
       "3                   ['vekt', 'fra', 'tc', 'til', 'sap']     sap  \n",
       "4                   ['vekt', 'fra', 'tc', 'til', 'sap']     sap  \n",
       "...                                                 ...     ...  \n",
       "2893                                          ['error']   error  \n",
       "2894                                          ['error']   error  \n",
       "2895             ['type', 'error', 'save', 'bom', 'tc']     bom  \n",
       "2896      ['urgent', 'cad', 'file', 'standard', 'part']  Others  \n",
       "2897  ['search', 'legacy', 'item', 'give', 'noe', 'r...    item  \n",
       "\n",
       "[2898 rows x 8 columns]"
      ]
     },
     "execution_count": 19,
     "metadata": {},
     "output_type": "execute_result"
    }
   ],
   "source": [
    "dataset"
   ]
  },
  {
   "cell_type": "code",
   "execution_count": 20,
   "metadata": {},
   "outputs": [],
   "source": [
    "from sklearn.feature_extraction.text import TfidfVectorizer\n",
    "import pandas as pd\n",
    "import numpy as np\n",
    "from nltk.tokenize import word_tokenize\n",
    "from nltk import pos_tag\n",
    "from nltk.corpus import stopwords\n",
    "from nltk.stem import WordNetLemmatizer\n",
    "from sklearn.preprocessing import LabelEncoder\n",
    "from collections import defaultdict\n",
    "from nltk.corpus import wordnet as wn\n",
    "from sklearn.feature_extraction.text import TfidfVectorizer\n",
    "from sklearn import model_selection, naive_bayes, svm\n",
    "from sklearn.metrics import accuracy_score"
   ]
  },
  {
   "cell_type": "code",
   "execution_count": 21,
   "metadata": {},
   "outputs": [],
   "source": [
    "Train_X, Test_X, Train_Y, Test_Y = model_selection.train_test_split(dataset['text_final'],dataset['desc'],test_size=0.3)"
   ]
  },
  {
   "cell_type": "code",
   "execution_count": 22,
   "metadata": {},
   "outputs": [],
   "source": [
    "from sklearn.preprocessing import LabelEncoder\n",
    "\n",
    "Encoder = LabelEncoder()\n",
    "Train_Y = Encoder.fit_transform(Train_Y)\n",
    "Test_Y = Encoder.fit_transform(Test_Y)"
   ]
  },
  {
   "cell_type": "code",
   "execution_count": 23,
   "metadata": {},
   "outputs": [],
   "source": [
    "Tfidf_vect = TfidfVectorizer(max_features=5000)\n",
    "Tfidf_vect.fit(dataset['text_final'])\n",
    "Train_X_Tfidf = Tfidf_vect.transform(Train_X)\n",
    "Test_X_Tfidf = Tfidf_vect.transform(Test_X)\n"
   ]
  },
  {
   "cell_type": "code",
   "execution_count": 24,
   "metadata": {},
   "outputs": [
    {
     "name": "stdout",
     "output_type": "stream",
     "text": [
      "{'quality': 891, 'improvement': 512, 'type': 1203, 'dataset': 231, 'report': 946, 'issue': 550, 'vekt': 1254, 'fra': 422, 'tc': 1146, 'til': 1177, 'sap': 1000, 'forbedringsforslag': 407, 'wrong': 1302, 'draw': 288, 'revision': 966, 'request': 947, 'pnas': 849, 'check': 151, 'release': 932, 'description': 255, 'copy': 202, 'paste': 819, 'item': 553, 'dw': 302, 'old': 777, 'document': 275, 'id': 499, 'rv': 991, 'ar': 49, 'tekst': 1158, 'attribute': 70, 'plf': 846, 'form': 413, 'approval': 41, 'complete': 183, 'mail': 639, 'workflow': 1298, 'name': 722, 'add': 13, 'subject': 1113, 'get': 449, 'correct': 203, 'excel': 352, 'outlook': 797, 'branch': 117, 'stainless': 1083, 'steel': 1096, 'aisi': 22, 'urgent': 1231, 'obsolete': 769, 'material': 664, 'cock': 176, 'td': 1147, 'referenced': 917, 'show': 1035, 'incorrect': 514, 'result': 959, 'miss': 693, 'setup': 1025, 'status': 1093, 'level': 602, 'tool': 1185, 'export': 361, 'regard': 921, 'ip': 546, 'secure': 1011, 'classification': 166, 'property': 875, 'part': 814, 'rename': 938, 'structure': 1103, 'new': 737, 'tarpaulin': 1143, 'fw': 432, 'urovekkende': 1234, 'observasjon': 767, 'teamcenter': 1149, 'need': 734, 'remove': 937, 'feature': 378, 'avoid': 76, 'misuse': 696, 'approve': 42, 'bom': 110, 'engine': 331, 'spec': 1071, 'ecn': 307, 'reference': 916, 'visibility': 1268, 'change': 149, 'power': 853, 'take': 1140, 'shaft': 1027, 'arr': 51, 'notification': 750, 'pr': 854, 'uen': 1206, 'sonora': 1066, 'ph': 830, 'ii': 504, 'error': 346, 'quick': 894, 'message': 680, 'unable': 1212, 'assign': 64, 'imo': 507, 'nox': 752, 'project': 874, 'delete': 243, 'replace': 944, 'child': 153, 'wwep': 1304, 'create': 218, 'please': 845, 'send': 1014, 'bauhireshs': 88, 'mrp': 714, 'run': 989, 'erp': 343, 'critical': 220, 'rund': 990, 'parent': 813, 'explode': 360, 'damen': 229, 'meld': 674, 'long': 626, 'lead': 596, 'tuningmass': 1197, 'downtime': 284, 'releas': 931, 'order': 792, 'problem': 864, 'pdf': 824, 'duplicate': 300, 'unrelease': 1219, 'grønn': 470, 'upgraded': 1226, 'air': 21, 'starter': 1089, 'kit': 567, 'mml': 699, 'drawing': 289, 'without': 1293, 'class': 163, 'suffix': 1118, 'preliminary': 856, 'late': 594, 'update': 1225, 'operation': 785, 'faild': 370, 'help': 479, 'cxss': 225, 'business': 127, 'rule': 988, 'rreb': 987, 'eng': 330, 'fitjar': 392, 'extract': 367, 'baustain': 89, 'back': 82, 'etc': 348, 'nut': 760, 'wing': 1291, 'question': 893, 'make': 642, 'drwaing': 293, 'refrences': 919, 'visable': 1267, 'multi': 717, 'foundry': 420, 'external': 366, 'rr': 986, 'marine': 658, 'product': 869, 'nx': 761, 'plmnordic': 847, 'prod': 868, 'model': 700, 'group': 466, 'access': 5, 'client': 173, 'install': 532, 'subcomponents': 1111, 'able': 2, 'solution': 1063, 'try': 1193, 'process': 867, 'dialog': 260, 'ownership': 805, 'owner': 804, 'plant': 842, 'log': 620, 'revise': 965, 'could': 208, 'provide': 878, 'classify': 168, 'view': 1264, 'bauhiresh': 86, 'password': 817, 'reset': 953, 'size': 1047, 'bolt': 108, 'society': 1060, 'pl': 838, 'write': 1301, 'field': 383, 'av': 73, 'clean': 170, 'rebuild': 902, 'west': 1284, 'sea': 1007, 'estaleiros': 347, 'navais': 727, 'electrical': 317, 'equipment': 340, 'fail': 369, 'renaming': 940, 'exercise': 355, 'priority': 862, 'task': 1144, 'quotation': 895, 'rfq': 972, 'far': 376, 'saga': 996, 'flywheel': 401, 'erro': 345, 'qrelease': 890, 'non': 742, 'geometric': 445, 'logg': 621, 'manager': 646, 'transfere': 1189, 'warn': 1276, 'wait': 1274, 'basic': 85, 'migrate': 684, 'generate': 441, 'tmp': 1182, 'folder': 403, 'transfer': 1187, 'valid': 1244, 'cancel': 138, 'file': 385, 'already': 27, 'exist': 358, 'decription': 237, 'satndard': 1001, 'information': 519, 'registration': 924, 'tune': 1196, 'mass': 663, 'high': 487, 'number': 756, 'additon': 17, 'addition': 15, 'quantity': 892, 'past': 818, 'armon': 50, 'gijon': 450, 'bop': 113, 'besa': 99, 'single': 1045, 'ipas': 547, 'deny': 252, 'renumbering': 942, 'standard': 1085, 'midland': 683, 'sluxxx': 1057, 'duplication': 301, 'connect': 194, 'rod': 980, 'veivstake': 1253, 'clasification': 162, 'xkb': 1307, 'tegninger': 1153, 'login': 624, 'klasser': 572, 'correction': 205, 'creation': 219, 'impossible': 511, 'rb': 899, 'artikler': 60, 'save': 1002, 'ready': 901, 'feilmelding': 381, 'color': 180, 'script': 1006, 'avvist': 79, 'finish': 388, 'one': 781, 'sub': 1110, 'assembly': 63, 'big': 102, 'end': 324, 'bearing': 92, 'shell': 1030, 'upper': 1229, 'ikke': 505, 'behandlet': 95, 'default': 238, 'image': 506, 'drag': 287, 'drop': 291, 'due': 298, 'system': 1134, 'drive': 290, 'restart': 957, 'pc': 821, 'melding': 675, 'bc': 91, 'art': 53, 'ecc': 305, 'production': 870, 'use': 1235, 'hint': 488, 'better': 101, 'control': 199, 'align': 24, 'shipment': 1032, 'revisjon': 969, 'shit': 1033, 'wtf': 1303, 'say': 1003, 'require': 948, 'enter': 336, 'uom': 1224, 'component': 184, 'ved': 1252, 'cost': 207, 'rørpakke': 994, 'green': 462, 'messeage': 681, 'lubrication': 633, 'oil': 775, 'outlet': 796, 'chn': 156, 'umutt': 1211, 'boms': 111, 'classified': 167, 'follwing': 406, 'hose': 494, 'state': 1090, 'put': 885, 'revice': 963, 'turbocharger': 1198, 'insulation': 539, 'visible': 1269, 'og': 774, 'yes': 1312, 'license': 607, 'family': 374, 'med': 672, 'notice': 748, 'still': 1098, 'ang': 36, 'nye': 763, 'bolter': 109, 'computer': 186, 'relaese': 927, 'løse': 635, 'nedre': 733, 'forkantmodul': 412, 'purchase': 884, 'convert': 200, 'gas': 437, 'exhaust': 357, 'module': 703, 'xfb': 1306, 'po': 850, 'pump': 883, 'tif': 1175, 'ca': 131, 'dummy': 299, 'alt': 29, 'rep': 943, 'teamsenter': 1150, 'library': 606, 'three': 1174, 'itemitem': 554, 'sale': 997, 'warning': 1277, 'flagg': 396, 'symbol': 1131, 'std': 1095, 'geometry': 446, 'mulig': 716, 'endre': 326, 'find': 387, 'nr': 754, 'anlegg': 37, 'spes': 1078, 'nivået': 738, 'zroh': 1320, 'bulk': 125, 'manage': 645, 'root': 983, 'singel': 1044, 'kontrollert': 579, 'adobe': 19, 'acrobat': 7, 'reader': 900, 'dc': 235, 'screw': 1005, 'countersunk': 209, 'regaring': 922, 'subcontracting': 1112, 'zamakona': 1318, 'first': 390, 'revison': 970, 'initems': 522, 'procedure': 866, 'dimension': 263, 'raw': 898, 'define': 239, 'additional': 16, 'ncr': 730, 'rev': 961, 'transform': 1190, 'deler': 242, 'ordre': 793, 'overført': 800, 'vard': 1249, 'brevik': 118, 'restlevering': 958, 'første': 435, 'cant': 139, 'logon': 625, 'felmeddelande': 382, 'relese': 934, 'releasing': 933, 'category': 144, 'open': 783, 'word': 1296, 'sheet': 1029, 'conflict': 193, 'oversikt': 801, 'forsinkede': 415, 'leveranser': 603, 'sv': 1128, 'user': 1236, 'unsuccessful': 1222, 'see': 1012, 'impact': 508, 'analysis': 34, 'bt': 122, 'datasets': 232, 'input': 528, 'tominskiy': 1184, 'gok': 456, 'motor': 706, 'cabinet': 132, 'expansion': 359, 'joint': 560, 'distribution': 270, 'claim': 158, 'sleipner': 1052, 'aftermarket': 20, 'hhi': 483, 'msc': 715, 'mismatch': 692, 'medium': 673, 'kleven': 574, 'pesquera': 828, 'available': 74, 'base': 84, 'admin': 18, 'certificate': 147, 'bs': 120, 'arrangement': 52, 'artikkel': 56, 'eastern': 304, 'glacier': 454, 'fish': 391, 'pcb': 822, 'service': 1021, 'test': 1164, 'yet': 1314, 'sxb': 1129, 'westcon': 1285, 'cad': 134, 'nozzle': 753, 'cleaner': 171, 'classefication': 164, 'unreleased': 1220, 'cxsss': 226, 'tppgl': 1186, 'bracket': 115, 'lifting': 610, 'brakett': 116, 'jekke': 557, 'verktøy': 1260, 'utfordringer': 1240, 'igjen': 503, 'assignement': 65, 'paint': 810, 'splash': 1080, 'klasisfication': 569, 'relase': 928, 'member': 677, 'functionality': 429, 'overføring': 799, 'govenor': 459, 'data': 230, 'tab': 1137, 'include': 513, 'som': 1064, 'avtalt': 77, 'follow': 404, 'difference': 261, 'pru': 881, 'hybrid': 497, 'generator': 443, 'statsraad': 1092, 'lemkhul': 598, 'configurator': 191, 'work': 1297, 'haster': 476, 'feil': 379, 'mislead': 691, 'skal': 1048, 'ha': 473, 'motornr': 709, 'men': 678, 'er': 341, 'istand': 551, 'det': 257, 'selv': 1013, 'manglende': 648, 'produktinformasjon': 871, 'unexpected': 1215, 'trouble': 1192, 'two': 1202, 'beskrivelse': 100, 'block': 104, 'blank': 103, 'flag': 395, 'donut': 276, 'delte': 249, 'card': 141, 'code': 177, 'specifiations': 1073, 'fil': 384, 'navn': 728, 'luwuk': 634, 'mw': 720, 'gepp': 448, 'specification': 1076, 'enigne': 335, 'datasett': 233, 'exh': 356, 'krav': 583, 'på': 886, 'verkstedsett': 1259, 'slett': 1053, 'abort': 3, 'text': 1167, 'hexagon': 482, 'din': 264, 'whu': 1290, 'konfigurator': 578, 'possible': 852, 'th': 1169, 'kill': 566, 'think': 1170, 'something': 1065, 'ugmaster': 1207, 'execute': 354, 'article': 54, 'dobbel': 273, 'rør': 993, 'mv': 719, 'eidsvaag': 312, 'pioner': 833, 'cyl': 227, 'mangler': 649, 'cleanup': 172, 'tegning': 1152, 'demand': 250, 'migration': 686, 'front': 424, 'obselete': 766, 'mark': 659, 'dim': 262, 'inquiry': 529, 'electric': 316, 'cable': 133, 'transferd': 1188, 'specify': 1077, 'olympic': 778, 'seafood': 1008, 'mounting': 711, 'plug': 848, 'qn': 889, 'stop': 1099, 'mistake': 695, 'cardinality': 142, 'double': 280, 'referece': 915, 'kan': 563, 'logge': 622, 'manufacturer': 653, 'releaed': 930, 'value': 1245, 'table': 1138, 'sufix': 1120, 'cammel': 137, 'laird': 591, 'nerc': 736, 'gammel': 436, 'anleggsspes': 39, 'marked': 660, 'suppose': 1127, 'interface': 541, 'short': 1034, 'nassco': 725, 'signe': 1039, 'head': 478, 'endringsmelding': 329, 'cylinder': 228, 'inlet': 525, 'valve': 1246, 'nufri': 755, 'fo': 402, 'gru': 468, 'greenhouse': 463, 'signoffs': 1040, 'pipe': 835, 'water': 1279, 'temperature': 1160, 'ref': 912, 'board': 106, 'pressure': 858, 'super': 1124, 'role': 981, 'mrb': 713, 'room': 982, 'pip': 834, 'lose': 629, 'allow': 26, 'får': 433, 'tatt': 1145, 'ut': 1237, 'nummer': 759, 'mount': 710, 'intermediate': 542, 'wheel': 1288, 'groope': 465, 'initial': 523, 'havila': 477, 'kystruten': 587, 'pending': 825, 'clasidication': 161, 'print': 860, 'crank': 214, 'case': 143, 'vent': 1256, 'altrep': 32, 'prioritization': 861, 'resend': 951, 'various': 1251, 'ingeteam': 521, 'compressor': 185, 'wessel': 1283, 'spare': 1070, 'look': 627, 'thought': 1172, 'wy': 1305, 'happen': 475, 'lewis': 605, 'eierskap': 313, 'donutt': 277, 'foundation': 419, 'orer': 794, 'team': 1148, 'center': 145, 'programme': 873, 'assistance': 66, 'bacelona': 81, 'wg': 1286, 'ymatetl': 1315, 'hierachy': 485, 'spesial': 1079, 'thomas': 1171, 'tveiten': 1201, 'engineering': 332, 'application': 40, 'risk': 977, 'recovery': 908, 'place': 839, 'weld': 1282, 'bvr': 129, 'upon': 1228, 'lock': 619, 'notepad': 747, 'chang': 148, 'baustien': 90, 'mising': 690, 'give': 452, 'ok': 776, 'spa': 1068, 'uten': 1238, 'extende': 363, 'server': 1020, 'problemer': 865, 'stykklisten': 1106, 'motorblokk': 707, 'resolve': 955, 'sent': 1017, 'installation': 533, 'delhi': 247, 'ecns': 308, 'distribute': 269, 'insert': 530, 'legacy': 597, 'org': 795, 'tersan': 1163, 'norlaks': 744, 'lengde': 599, 'funksjon': 430, 'missing': 694, 'asap': 61, 'maskinert': 662, 'workstation': 1300, 'vs': 1272, 'step': 1097, 'dwg': 303, 'den': 251, 'var': 1248, 'ny': 762, 'gateway': 440, 'layer': 595, 'set': 1022, 'four': 421, 'space': 1069, 'manufacturing': 654, 'record': 907, 'book': 112, 'licesece': 608, 'main': 641, 'groop': 464, 'dryrun': 295, 'refresh': 920, 'crash': 217, 'nb': 729, 'prelinenrary': 857, 'vrake': 1271, 'lagerbeholdning': 590, 'sign': 1038, 'deleting': 245, 'fuel': 427, 'ventilation': 1257, 'fan': 375, 'forkantaksling': 411, 'inngår': 526, 'søk': 1135, 'actually': 12, 'machining': 638, 'crankshaft': 216, 'dnv': 272, 'sertificate': 1019, 'tag': 1139, 'pre': 855, 'stykklister': 1107, 'obsolte': 770, 'removal': 936, 'ring': 976, 'loggin': 623, 'clas': 160, 'coupling': 211, 'fully': 428, 'thread': 1173, 'renamin': 939, 'editing': 311, 'rgk': 973, 'zeya': 1319, 'mcp': 668, 'extension': 364, 'uat': 1205, 'tet': 1166, 'environment': 338, 'elektrisk': 318, 'utstyr': 1242, 'stykkliste': 1105, 'virker': 1266, 'hiresh': 489, 'golten': 457, 'receive': 903, 'perform': 827, 'describe': 254, 'liten': 616, 'skrivefeil': 1050, 'remame': 935, 'doughnutt': 281, 'strange': 1100, 'numbering': 758, 'revisioning': 968, 'displayed': 268, 'gondan': 458, 'silencer': 1042, 'plea': 844, 'pass': 815, 'mcc': 667, 'accord': 6, 'language': 592, 'degradation': 240, 'opening': 784, 'minor': 689, 'amendment': 33, 'today': 1183, 'ksrm': 585, 'sae': 995, 'flange': 397, 'rout': 984, 'eqiupment': 339, 'assembley': 62, 'fix': 394, 'sett': 1023, 'dette': 258, 'før': 434, 'jt': 561, 'bulkhead': 126, 'fro': 423, 'pålogging': 888, 'åpning': 1323, 'åpnes': 1322, 'important': 509, 'intenal': 540, 'mapping': 656, 'skriveleif': 1051, 'revisiona': 967, 'china': 154, 'scope': 1004, 'mom': 704, 'male': 643, 'stud': 1104, 'couple': 210, 'err': 344, 'forward': 418, 'custom': 223, 'forslag': 416, 'klassifisering': 573, 'draft': 286, 'endring': 327, 'south': 1067, 'staff': 1082, 'configuration': 190, 'manufactoring': 652, 'page': 809, 'ownserhsip': 806, 'format': 414, 'tegningsnummer': 1155, 'deletion': 246, 'redistribution': 910, 'failure': 372, 'invenergy': 545, 'altamira': 30, 'connection': 195, 'proxy': 879, 'relation': 929, 'ew': 351, 'hex': 481, 'socket': 1062, 'buffer': 124, 'list': 614, 'undo': 1214, 'geonisio': 447, 'barosso': 83, 'reducer': 911, 'right': 974, 'idoc': 501, 'ymatsun': 1316, 'kortslag': 582, 'aksling': 23, 'classifcation': 165, 'levering': 604, 'norsk': 745, 'stål': 1108, 'hm': 492, 'protector': 877, 'tegningsrevisjoner': 1157, 'dead': 236, 'package': 807, 'liner': 612, 'ab': 0, 'cert': 146, 'tifs': 1176, 'lub': 631, 'prim': 859, 'plana': 841, 'link': 613, 'load': 617, 'wire': 1292, 'coil': 178, 'renumber': 941, 'clone': 174, 'hole': 493, 'weight': 1281, 'whn': 1289, 'lage': 589, 'klasse': 570, 'resent': 952, 'gruppe': 469, 'button': 128, 'sync': 1132, 'fails': 371, 'attach': 68, 'flexim': 399, 'approvin': 45, 'stadard': 1081, 'artikkler': 59, 'dosent': 279, 'unwanted': 1223, 'ocn': 773, 'tilbake': 1178, 'empty': 323, 'alternator': 31, 'manufactorer': 651, 'strength': 1101, 'chjange': 155, 'started': 1088, 'abel': 1, 'register': 923, 'vibratec': 1263, 'vendor': 1255, 'eldre': 315, 'note': 746, 'mc': 666, 'flow': 400, 'apprving': 47, 'microsoft': 682, 'special': 1072, 'gasket': 438, 'idag': 500, 'approver': 44, 'baan': 80, 'reflect': 918, 'following': 405, 'rivision': 978, 'fastener': 377, 'dublicate': 297, 'komponent': 577, 'båe': 130, 'kringle': 584, 'enhancement': 333, 'crankcase': 215, 'door': 278, 'jev': 559, 'tgn': 1168, 'clarification': 159, 'salesorder': 998, 'att': 67, 'ta': 1136, 'modify': 702, 'pakning': 811, 'må': 721, 'gjøres': 453, 'start': 1087, 'cooler': 201, 'nordnorge': 743, 'andre': 35, 'hurtigruten': 495, 'ombygginger': 780, 'evt': 350, 'artikel': 55, 'endringsforslag': 328, 'notify': 751, 'classinspection': 169, 'piston': 836, 'crown': 221, 'suffixed': 1119, 'sit': 1046, 'testing': 1165, 'manifestation': 650, 'hi': 484, 'prosedyrer': 876, 'behalda': 94, 'eller': 321, 'sletta': 1054, 'choice': 157, 'elisabeths': 320, 'workshop': 1299, 'approvel': 43, 'exter': 365, 'node': 740, 'guard': 472, 'utvikling': 1243, 'pågår': 887, 'suffi': 1117, 'unrelasing': 1218, 'doc': 274, 'dr': 285, 'shanghai': 1028, 'salvage': 999, 'title': 1181, 'dispaly': 267, 'close': 175, 'info': 518, 'koksring': 575, 'referances': 914, 'yellow': 1310, 'structur': 1102, 'compare': 182, 'funktion': 431, 'kort': 581, 'nedetid': 732, 'suggestion': 1121, 'modell': 701, 'ybei': 1309, 'neoelectra': 735, 'el': 314, 'grado': 460, 'letter': 601, 'template': 1161, 'ind': 515, 'desc': 253, 'vlaues': 1270, 'action': 9, 'customer': 224, 'supply': 1126, 'url': 1233, 'befor': 93, 'drw': 292, 'numberin': 757, 'yesterday': 1313, 'keep': 564, 'du': 296, 'tillegg': 1179, 'program': 872, 'approving': 46, 'several': 1026, 'hit': 491, 'continue': 198, 'cover': 212, 'curve': 222, 'pto': 882, 'flexible': 398, 'pitch': 837, 'endr': 325, 'rack': 896, 'indicator': 517, 'temporary': 1162, 'setting': 1024, 'iems': 502, 'yerz': 1311, 'station': 1091, 'resilient': 954, 'komplett': 576, 'gasstilsluxxxtning': 439, 'forkammerhylse': 410, 'kjølehylse': 568, 'patch': 820, 'attributts': 71, 'uht': 1210, 'stauff': 1094, 'lift': 609, 'eye': 368, 'instal': 531, 'injection': 524, 'installment': 536, 'laptop': 593, 'reclassify': 905, 'invalid': 544, 'oppdatering': 787, 'morning': 705, 'mandatory': 647, 'pcs': 823, 'jet': 558, 'oppgradert': 789, 'tuesday': 1195, 'wednesday': 1280, 'aproval': 48, 'edge': 309, 'installere': 534, 'ingen': 520, 'kunne': 586, 'finne': 389, 'gitt': 451, 'installering': 535, 'icon': 498, 'bench': 97, 'ugpart': 1208, 'xl': 1308, 'requirement': 949, 'technical': 1151, 'pfd': 829, 'seamless': 1009, 'snip': 1059, 'notif': 749, 'receiver': 904, 'generatpe': 444, 'klassenavn': 571, 'deleteing': 244, 'attached': 69, 'element': 319, 'review': 964, 'ocm': 772, 'graphic': 461, 'war': 1275, 'extend': 362, 'forespørsel': 408, 'confirm': 192, 'groupe': 467, 'tegningsendring': 1154, 'sylinderdeksel': 1130, 'ventilseteutboringer': 1258, 'avvik': 78, 'standardpart': 1086, 'successfully': 1114, 'plan': 840, 'prt': 880, 'erik': 342, 'allen': 25, 'generation': 442, 'changer': 150, 'ettersende': 349, 'jb': 556, 'instrumentation': 538, 'instead': 537, 'unlock': 1217, 'ymot': 1317, 'hierarchy': 486, 'junction': 562, 'box': 114, 'mmi': 698, 'passord': 816, 'bss': 121, 'ship': 1031, 'loose': 628, 'move': 712, 'onother': 782, 'namechanges': 723, 'mechanical': 671, 'routing': 985, 'cpm': 213, 'sensor': 1016, 'turbolader': 1199, 'ladeluftkjøler': 588, 'napier': 724, 'wmc': 1294, 'suddenly': 1116, 'time': 1180, 'config': 188, 'percent': 826, 'oppretting': 790, 'download': 282, 'supplier': 1125, 'åpne': 1321, 'small': 1058, 'activate': 10, 'turn': 1200, 'tap': 1142, 'forget': 409, 'acc': 4, 'sequence': 1018, 'liste': 615, 'simelar': 1043, 'ups': 1230, 'index': 516, 'pad': 808, 'mm': 697, 'maual': 665, 'mean': 669, 'forsøk': 417, 'edit': 310, 'dekkplater': 241, 'understand': 1213, 'tank': 1141, 'unit': 1216, 'capture': 140, 'dry': 294, 'whe': 1287, 'typo': 1204, 'fill': 386, 'irmf': 548, 'revert': 962, 'rejection': 926, 'woodward': 1295, 'act': 8, 'gland': 455, 'tray': 1191, 'piece': 831, 'referance': 913, 'automatically': 72, 'collection': 179, 'requriement': 950, 'specificaitons': 1075, 'utgått': 1241, 'overspeed': 802, 'problelms': 863, 'dn': 271, 'handle': 474, 'search': 1010, 'specific': 1074, 'oppdatere': 786, 'artikkelinfo': 57, 'artikkelnummer': 58, 'mutrar': 718, 'emailing': 322, 'malfunction': 644, 'siden': 1037, 'synlige': 1133, 'urgently': 1232, 'deskription': 256, 'itemrevision': 555, 'uheldig': 1209, 'delivery': 248, 'frontpage': 425, 'output': 798, 'migrated': 685, 'oppdatert': 788, 'measure': 670, 'version': 1261, 'length': 600, 'command': 181, 'lot': 630, 'belonging': 96, 'content': 197, 'added': 14, 'downstream': 283, 'no': 739, 'socity': 1061, 'option': 791, 'rectification': 909, 'body': 107, 'dismatch': 266, 'sketch': 1049, 'returdelforbedring': 960, 'shut': 1036, 'uploading': 1227, 'callout': 136, 'correctly': 206, 'map': 655, 'disker': 265, 'parameter': 812, 'min': 688, 'btw': 123, 'suksess': 1122, 'trykke': 1194, 'obslolete': 768, 'hvilken': 496, 'nå': 764, 'riktig': 975, 'bruke': 119, 'replacement': 945, 'om': 779, 'menu': 679, 'history': 490, 'object': 765, 'limit': 611, 'mailing': 640, 'unreleasing': 1221, 'slm': 1055, 'active': 11, 'correcting': 204, 'wago': 1273, 'avklaring': 75, 'utfasing': 1239, 'standar': 1084, 'maskinering': 661, 'vannrom': 1247, 'henf': 480, 'plate': 843, 'signplate': 1041, 'roblem': 979, 'occur': 771, 'entry': 337, 'point': 851, 'internal': 543, 'bauhiresher': 87, 'anleggspes': 38, 'variant': 1250, 'condition': 187, 'native': 726, 'miguser': 687, 'call': 135, 'contact': 196, 'rønn': 992, 'tegningsrevisjon': 1156, 'suction': 1115, 'lubr': 632, 'sump': 1123, 'mach': 636, 'checking': 152, 'reject': 925, 'rework': 971, 'machine': 637, 'bend': 98, 'excell': 353, 'inpunt': 527, 'motorer': 708, 'feilklassifiserte': 380, 'imported': 510, 'ecm': 306, 'pin': 832, 'mapromec': 657, 'temp': 1159, 'development': 259, 'kopi': 580, 'fsteien': 426, 'grønne': 471, 'meldinger': 676, 'dba': 234, 'own': 803, 'blokk': 105, 'står': 1109, 'isolasjonspanel': 549, 'fallout': 373, 'configration': 189, 'raport': 897, 'slow': 1056, 'ketil': 565, 'vevle': 1262, 'also': 28, 'wat': 1278, 'loading': 618, 'responsive': 956, 'viewer': 1265, 'enhancment': 334, 'neded': 731, 'recognition': 906, 'fitting': 393, 'sende': 1015, 'istead': 552, 'noe': 741}\n"
     ]
    }
   ],
   "source": [
    "print(Tfidf_vect.vocabulary_)"
   ]
  },
  {
   "cell_type": "code",
   "execution_count": 25,
   "metadata": {},
   "outputs": [
    {
     "name": "stdout",
     "output_type": "stream",
     "text": [
      "  (0, 1146)\t0.4445073426243518\n",
      "  (0, 864)\t0.5377733992340096\n",
      "  (0, 624)\t0.7163888562989624\n",
      "  (2, 1146)\t0.6371027073015776\n",
      "  (2, 864)\t0.7707789179453473\n",
      "  (3, 666)\t1.0\n",
      "  (4, 383)\t0.863573768673707\n",
      "  (4, 149)\t0.5042225164138258\n",
      "  (5, 820)\t0.603375384497683\n",
      "  (5, 408)\t0.7974573000369819\n",
      "  (6, 932)\t0.3520720736111516\n",
      "  (6, 901)\t0.9359728922266625\n",
      "  (7, 864)\t0.4828901893383686\n",
      "  (7, 621)\t0.8756809150830881\n",
      "  (8, 825)\t0.5279673016411643\n",
      "  (8, 734)\t0.33415005843767215\n",
      "  (8, 645)\t0.5086764453527483\n",
      "  (8, 550)\t0.31035709803374084\n",
      "  (8, 225)\t0.2858329971694716\n",
      "  (8, 184)\t0.41571686304061856\n",
      "  (9, 1020)\t0.8714659042874937\n",
      "  (9, 346)\t0.4904560914744365\n",
      "  (10, 1014)\t0.8323902536795682\n",
      "  (10, 1000)\t0.5541899183305883\n",
      "  (11, 1178)\t0.8173097913432864\n",
      "  :\t:\n",
      "  (2021, 218)\t0.6441473045229946\n",
      "  (2022, 774)\t0.338612591197925\n",
      "  (2022, 672)\t0.371328191448451\n",
      "  (2022, 584)\t0.43753545575320524\n",
      "  (2022, 577)\t0.43753545575320524\n",
      "  (2022, 396)\t0.41610703213759115\n",
      "  (2022, 130)\t0.43753545575320524\n",
      "  (2023, 1146)\t0.4079397301339751\n",
      "  (2023, 1014)\t0.6136228226379676\n",
      "  (2023, 680)\t0.5584010883814828\n",
      "  (2023, 346)\t0.38110422801434257\n",
      "  (2024, 1076)\t0.33036917792785137\n",
      "  (2024, 961)\t0.3096145093111336\n",
      "  (2024, 853)\t0.3709338808722755\n",
      "  (2024, 842)\t0.5490184394749901\n",
      "  (2024, 792)\t0.3118113705841243\n",
      "  (2024, 585)\t0.39622742136164835\n",
      "  (2024, 330)\t0.31899744634139215\n",
      "  (2025, 346)\t0.6246048801082065\n",
      "  (2025, 42)\t0.7809409348632027\n",
      "  (2026, 1000)\t0.6567784898784327\n",
      "  (2026, 932)\t0.5412126926947194\n",
      "  (2026, 553)\t0.525100786991542\n",
      "  (2027, 395)\t0.6167808847481685\n",
      "  (2027, 281)\t0.7871348932738699\n"
     ]
    }
   ],
   "source": [
    "print(Train_X_Tfidf)"
   ]
  },
  {
   "cell_type": "code",
   "execution_count": 26,
   "metadata": {},
   "outputs": [
    {
     "name": "stdout",
     "output_type": "stream",
     "text": [
      "Naive Bayes Accuracy Score ->  83.9080459770115\n"
     ]
    }
   ],
   "source": [
    "Naive = naive_bayes.MultinomialNB()\n",
    "Naive.fit(Train_X_Tfidf,Train_Y)\n",
    "# predict the labels on validation dataset\n",
    "predictions_NB = Naive.predict(Test_X_Tfidf)\n",
    "# Use accuracy_score function to get the accuracy\n",
    "print(\"Naive Bayes Accuracy Score -> \",accuracy_score(predictions_NB, Test_Y)*100)"
   ]
  },
  {
   "cell_type": "code",
   "execution_count": 27,
   "metadata": {},
   "outputs": [
    {
     "name": "stdout",
     "output_type": "stream",
     "text": [
      "SVM Accuracy Score ->  99.54022988505747\n"
     ]
    }
   ],
   "source": [
    "SVM = svm.SVC(C=1.0, kernel='linear', degree=3, gamma='auto')\n",
    "SVM.fit(Train_X_Tfidf,Train_Y)\n",
    "# predict the labels on validation dataset\n",
    "predictions_SVM = SVM.predict(Test_X_Tfidf)\n",
    "# Use accuracy_score function to get the accuracy\n",
    "print(\"SVM Accuracy Score -> \",accuracy_score(predictions_SVM, Test_Y)*100)"
   ]
  },
  {
   "cell_type": "code",
   "execution_count": 28,
   "metadata": {},
   "outputs": [
    {
     "data": {
      "text/plain": [
       "array([7, 0, 0, 0, 5, 7, 0, 0, 1, 4, 0, 0, 4, 6, 5, 6, 0, 0, 4, 7, 5, 0,\n",
       "       0, 5, 4, 5, 0, 7, 0, 5, 0, 8, 6, 0, 0, 0, 0, 4, 0, 5, 0, 8, 0, 0,\n",
       "       5, 0, 0, 5, 0, 0, 0, 7, 0, 0, 0, 5, 0, 7, 0, 0, 0, 1, 8, 0, 0, 0,\n",
       "       0, 5, 0, 0, 0, 0, 0, 0, 0, 4, 0, 0, 5, 6, 0, 0, 0, 0, 0, 0, 0, 0,\n",
       "       0, 0, 7, 0, 0, 4, 4, 0, 0, 0, 4, 0, 5, 0, 5, 0, 8, 5, 0, 7, 0, 0,\n",
       "       0, 0, 0, 0, 0, 0, 0, 5, 0, 0, 0, 5, 0, 0, 6, 0, 0, 5, 0, 0, 0, 0,\n",
       "       0, 5, 0, 0, 8, 0, 6, 0, 0, 5, 0, 5, 8, 1, 5, 0, 0, 0, 0, 0, 0, 6,\n",
       "       1, 7, 4, 0, 1, 0, 6, 0, 0, 0, 7, 0, 8, 0, 0, 0, 0, 0, 0, 0, 0, 0,\n",
       "       0, 0, 0, 0, 0, 0, 0, 1, 1, 0, 4, 0, 8, 0, 5, 0, 6, 0, 0, 0, 0, 0,\n",
       "       0, 0, 4, 0, 0, 0, 0, 0, 0, 0, 5, 5, 7, 0, 0, 0, 0, 0, 0, 0, 0, 5,\n",
       "       0, 7, 6, 0, 0, 0, 6, 0, 5, 0, 4, 5, 0, 0, 5, 5, 0, 0, 3, 0, 0, 0,\n",
       "       5, 4, 5, 0, 0, 8, 4, 0, 5, 4, 0, 0, 6, 5, 8, 0, 5, 0, 0, 0, 6, 0,\n",
       "       0, 0, 5, 5, 5, 0, 0, 0, 0, 8, 0, 0, 5, 5, 0, 4, 0, 5, 0, 6, 0, 4,\n",
       "       0, 0, 5, 0, 0, 0, 6, 0, 8, 0, 0, 0, 5, 0, 1, 0, 0, 0, 7, 0, 7, 0,\n",
       "       0, 0, 4, 0, 0, 0, 0, 0, 7, 7, 0, 7, 1, 4, 5, 5, 5, 5, 4, 0, 0, 0,\n",
       "       0, 0, 0, 0, 6, 0, 0, 0, 0, 0, 7, 4, 0, 0, 0, 0, 0, 0, 0, 6, 0, 0,\n",
       "       0, 5, 0, 5, 0, 5, 0, 0, 0, 0, 5, 0, 1, 0, 5, 0, 0, 0, 0, 0, 0, 7,\n",
       "       5, 1, 0, 0, 0, 0, 0, 0, 0, 5, 0, 0, 0, 5, 1, 0, 0, 0, 0, 8, 0, 0,\n",
       "       6, 0, 0, 7, 1, 0, 7, 0, 0, 0, 4, 8, 0, 0, 0, 0, 8, 0, 0, 0, 0, 0,\n",
       "       0, 0, 0, 5, 0, 0, 8, 0, 7, 0, 5, 0, 8, 5, 0, 0, 1, 1, 0, 0, 0, 0,\n",
       "       0, 4, 0, 0, 0, 0, 0, 0, 0, 0, 0, 0, 5, 0, 7, 0, 0, 7, 0, 8, 0, 0,\n",
       "       0, 4, 8, 0, 0, 4, 0, 0, 0, 0, 4, 0, 7, 0, 0, 0, 0, 5, 0, 0, 5, 0,\n",
       "       0, 0, 5, 0, 0, 6, 5, 0, 6, 0, 0, 0, 8, 5, 0, 7, 0, 4, 0, 0, 0, 0,\n",
       "       0, 7, 8, 0, 0, 0, 0, 4, 6, 1, 5, 0, 6, 0, 0, 0, 0, 4, 4, 0, 0, 0,\n",
       "       0, 0, 0, 0, 0, 0, 0, 8, 0, 4, 0, 0, 0, 6, 0, 5, 0, 7, 0, 4, 5, 0,\n",
       "       5, 0, 1, 0, 0, 0, 0, 0, 0, 5, 0, 0, 5, 6, 0, 0, 0, 7, 6, 8, 0, 0,\n",
       "       0, 0, 1, 5, 0, 6, 0, 8, 0, 4, 0, 0, 8, 0, 7, 0, 0, 1, 7, 1, 0, 0,\n",
       "       0, 0, 5, 8, 0, 0, 8, 0, 0, 0, 0, 0, 0, 6, 0, 5, 4, 7, 8, 0, 0, 0,\n",
       "       0, 0, 0, 0, 0, 5, 8, 0, 0, 1, 0, 0, 0, 0, 4, 0, 0, 0, 0, 0, 6, 8,\n",
       "       0, 0, 0, 5, 0, 0, 0, 5, 0, 0, 0, 0, 0, 5, 7, 5, 7, 0, 7, 0, 0, 7,\n",
       "       4, 5, 7, 0, 1, 7, 0, 0, 1, 0, 0, 0, 0, 0, 0, 0, 0, 5, 0, 0, 0, 0,\n",
       "       0, 0, 0, 5, 6, 7, 0, 1, 0, 0, 0, 0, 0, 0, 0, 1, 0, 0, 5, 5, 0, 1,\n",
       "       0, 0, 0, 0, 0, 0, 0, 0, 0, 5, 0, 0, 0, 8, 7, 5, 0, 0, 0, 0, 0, 0,\n",
       "       0, 0, 0, 0, 5, 0, 5, 0, 0, 0, 1, 5, 7, 0, 8, 0, 0, 0, 0, 0, 0, 0,\n",
       "       7, 0, 5, 0, 8, 0, 4, 0, 0, 4, 0, 0, 0, 0, 0, 7, 0, 5, 1, 2, 0, 5,\n",
       "       6, 0, 0, 6, 4, 0, 0, 6, 6, 0, 0, 5, 5, 0, 0, 0, 1, 0, 4, 0, 0, 7,\n",
       "       0, 7, 0, 7, 0, 0, 7, 0, 0, 0, 0, 8, 2, 0, 0, 5, 5, 0, 0, 5, 0, 0,\n",
       "       0, 0, 0, 4, 0, 4, 0, 0, 7, 5, 0, 0, 0, 0, 0, 0, 5, 8, 0, 0, 0, 0,\n",
       "       0, 0, 0, 0, 0, 0, 0, 8, 0, 0, 0, 5, 0, 5, 0, 4, 0, 0, 1, 0, 0, 6,\n",
       "       0, 0, 0, 0, 0, 7, 5, 0, 7, 0, 1, 8])"
      ]
     },
     "execution_count": 28,
     "metadata": {},
     "output_type": "execute_result"
    }
   ],
   "source": [
    "accuracy_score(predictions_NB,Test_Y)\n",
    "#len(predictions_NB)\n",
    "Test_Y"
   ]
  },
  {
   "cell_type": "code",
   "execution_count": 36,
   "metadata": {},
   "outputs": [
    {
     "name": "stdout",
     "output_type": "stream",
     "text": [
      "[2 3 7 1 8 0 8 0 0 6 0]\n"
     ]
    }
   ],
   "source": [
    "inp_data = [\n",
    "   'This is the first document sap',\n",
    "    \"erp related failure\",\n",
    "    \"does not sap\",\n",
    "    \"bom is here\",\n",
    "    \"teamcenter problem exists here\",\n",
    "    \"ticket does not collapse\",\n",
    "    \"teamcenter\",\n",
    "    \"there is issue in ticket\",\n",
    "    \"documented\",\n",
    "    \"material error\",\n",
    "    \"ticket\"\n",
    "     \n",
    "]\n",
    "\n",
    "\n",
    "\n",
    "\n",
    "\n",
    "\n",
    "\n",
    "Test_X_Tfidf = Tfidf_vect.transform(inp_data)\n",
    "res=SVM.predict(Test_X_Tfidf)\n",
    "print(res)\n",
    "\n",
    "\n",
    "k=Encoder.inverse_transform(res)"
   ]
  },
  {
   "cell_type": "code",
   "execution_count": 37,
   "metadata": {},
   "outputs": [
    {
     "data": {
      "text/plain": [
       "array(['document', 'erp', 'sap', 'bom', 'teamcent', 'Others', 'teamcent',\n",
       "       'Others', 'Others', 'materi', 'Others'], dtype=object)"
      ]
     },
     "execution_count": 37,
     "metadata": {},
     "output_type": "execute_result"
    }
   ],
   "source": [
    "k"
   ]
  },
  {
   "cell_type": "code",
   "execution_count": 30,
   "metadata": {},
   "outputs": [],
   "source": [
    "from nltk.tokenize import word_tokenize\n",
    "from nltk.stem import PorterStemmer\n",
    "from nltk.stem import WordNetLemmatizer\n",
    "\n",
    "porter = PorterStemmer()\n",
    "z=[]\n",
    "for text in inp_data: \n",
    "    #text='This is the first documentation sap'\n",
    "    k=word_tokenize(text)\n",
    "\n",
    "\n",
    "    lemmatizer = WordNetLemmatizer()\n",
    "    res=\"\"\n",
    "    for i in k:\n",
    "        var=lemmatizer.lemmatize(i)\n",
    "        res+=porter.stem(var)\n",
    "        res+=' '\n",
    "    z.append(res[:len(res)-1])"
   ]
  },
  {
   "cell_type": "code",
   "execution_count": 31,
   "metadata": {},
   "outputs": [
    {
     "name": "stdout",
     "output_type": "stream",
     "text": [
      "[2 3 7 1 0 0 0 0 2 4 0]\n"
     ]
    },
    {
     "data": {
      "text/plain": [
       "array(['document', 'erp', 'sap', 'bom', 'Others', 'Others', 'Others',\n",
       "       'Others', 'document', 'error', 'Others'], dtype=object)"
      ]
     },
     "execution_count": 31,
     "metadata": {},
     "output_type": "execute_result"
    }
   ],
   "source": [
    "Test_X_Tfidf = Tfidf_vect.transform(z)\n",
    "res=SVM.predict(Test_X_Tfidf)\n",
    "print(res)\n",
    "\n",
    "\n",
    "Encoder.inverse_transform(res)"
   ]
  },
  {
   "cell_type": "code",
   "execution_count": 32,
   "metadata": {},
   "outputs": [
    {
     "data": {
      "text/plain": [
       "['thi is the first document sap',\n",
       " 'erp relat failur',\n",
       " 'doe not sap',\n",
       " 'bom is here',\n",
       " 'teamcent problem exist here',\n",
       " 'ticket doe not collaps',\n",
       " 'teamcent',\n",
       " 'there is issu in ticket',\n",
       " 'document',\n",
       " 'materi error',\n",
       " 'ticket']"
      ]
     },
     "execution_count": 32,
     "metadata": {},
     "output_type": "execute_result"
    }
   ],
   "source": [
    "z"
   ]
  },
  {
   "cell_type": "code",
   "execution_count": 33,
   "metadata": {},
   "outputs": [
    {
     "name": "stdout",
     "output_type": "stream",
     "text": [
      "cat\n",
      "troubl\n"
     ]
    }
   ],
   "source": [
    "#rint(\"Porter Stemmer\")\n",
    "print(porter.stem(\"cats\"))\n",
    "print(porter.stem(\"trouble\"))"
   ]
  }
 ],
 "metadata": {
  "kernelspec": {
   "display_name": "Python 3",
   "language": "python",
   "name": "python3"
  },
  "language_info": {
   "codemirror_mode": {
    "name": "ipython",
    "version": 3
   },
   "file_extension": ".py",
   "mimetype": "text/x-python",
   "name": "python",
   "nbconvert_exporter": "python",
   "pygments_lexer": "ipython3",
   "version": "3.7.6"
  }
 },
 "nbformat": 4,
 "nbformat_minor": 4
}
